{
 "cells": [
  {
   "cell_type": "markdown",
   "metadata": {},
   "source": [
    "# Audiobooks business casestudy - Deep Neural Network \n",
    "\n",
    "## Author/Data-Scientist: Leon Hamnett\n",
    "## [LinkedIn](https://www.linkedin.com/in/leon-hamnett/) \n",
    "\n",
    "### Contents:\n",
    "\n",
    "1. [Introduction](#introduction)\n",
    "2. [Preprocessing](#prepro)\n",
    "3. [Building and training the model](#model)\n",
    "4. [Testing and Conclusion](#test)"
   ]
  },
  {
   "cell_type": "markdown",
   "metadata": {},
   "source": [
    "### Introduction:  <a name=\"introduction\"></a>\n",
    "\n",
    "We have obtained data from an Audiobook App. Each customer in the database has made a purchase at least once, that's why he/she is in the database. We want to create a machine learning algorithm based on our available data that can predict if a customer will buy again from the Audiobook company.\n",
    "\n",
    "The main idea is that if a customer has a low probability of coming back, there is no reason to spend any money on advertising to him/her. If we can focus our efforts SOLELY on customers that are likely to convert again, we can make great savings. Moreover, this model can identify the most important metrics for a customer to come back again. Identifying new customers creates value and growth opportunities.\n",
    "\n",
    "We have obtained .csv file summarizing the data. There are several variables: Customer ID, Book length overall (sum of the minute length of all purchases), Book length avg (average length in minutes of all purchases), Price paid_overall (sum of all purchases) ,Price Paid avg (average of all purchases), Review (a Boolean variable whether the customer left a review), Review out of 10 (if the customer left a review, his/her review out of 10, Total minutes listened, Completion (from 0 to 1), Support requests (number of support requests; everything from forgotten password to assistance for using the App), and Last visited minus purchase date (in days).\n",
    "\n",
    "These are the inputs (excluding customer ID, as this variables adds nothing to the analysis)\n",
    "\n",
    "The targets are a Boolean variable (0 or 1). We are taking a period of 2 years in our inputs, and the next 6 months as targets. So, in fact, we are predicting if: based on the last 2 years of activity and engagement, a customer will convert in the next 6 months. 6 months sounds like a reasonable time. If they don't convert after 6 months, chances are they've gone to a competitor or didn't like the Audiobook way of digesting information. \n",
    "\n",
    "We will create a machine learning algorithm which is able to predict if a customer will buy again so that targets advertising can be directed towards these users.\n",
    "\n",
    "This is a classification problem with two classes: won't buy and will buy, represented by 0s and 1s. "
   ]
  },
  {
   "cell_type": "markdown",
   "metadata": {},
   "source": [
    "### Import libraries:"
   ]
  },
  {
   "cell_type": "code",
   "execution_count": 1,
   "metadata": {},
   "outputs": [],
   "source": [
    "import numpy as np\n",
    "import pandas as pd\n",
    "import random\n",
    "# We will use the sklearn preprocessing library, as it will be easier to standardize the data.\n",
    "from sklearn import preprocessing\n",
    "import tensorflow as tf\n"
   ]
  },
  {
   "cell_type": "markdown",
   "metadata": {},
   "source": [
    "## Preprocess the data <a name=\"prepro\"></a>\n",
    "\n",
    "Since we are dealing with real life data, we will need to preprocess it a bit.  Note that in the .csv file obtained the header rows have already been removed as these contained the names of the categories. We simply want the data for this model."
   ]
  },
  {
   "cell_type": "markdown",
   "metadata": {},
   "source": [
    "### Extract the data from the csv"
   ]
  },
  {
   "cell_type": "code",
   "execution_count": 2,
   "metadata": {},
   "outputs": [],
   "source": [
    "# Load the data\n",
    "raw_csv_data = np.loadtxt('Audiobooks_data.csv',delimiter=',')\n",
    "\n",
    "# The inputs are all columns in the csv, except for the first one [:,0]\n",
    "# (which is just the arbitrary customer IDs that bear no useful information),\n",
    "# and the last one [:,-1] (which is our targets)\n",
    "\n",
    "unscaled_inputs_all = raw_csv_data[:,1:-1]\n",
    "\n",
    "# The targets are in the last column. That's how datasets are conventionally organized.\n",
    "targets_all = raw_csv_data[:,-1]"
   ]
  },
  {
   "cell_type": "markdown",
   "metadata": {},
   "source": [
    "### Balance the dataset"
   ]
  },
  {
   "cell_type": "code",
   "execution_count": 3,
   "metadata": {},
   "outputs": [],
   "source": [
    "# Count how many targets are 1 (meaning that the customer did convert)\n",
    "num_one_targets = int(np.sum(targets_all))\n",
    "\n",
    "# Set a counter for targets that are 0 (meaning that the customer did not convert)\n",
    "zero_targets_counter = 0\n",
    "\n",
    "# We want to create a \"balanced\" dataset, so we will have to remove some input/target pairs.\n",
    "# Declare a variable that will do that:\n",
    "indices_to_remove = []\n",
    "\n",
    "# Count the number of targets that are 0. \n",
    "# Once there are as many 0s as 1s, mark entries where the target is 0.\n",
    "for i in range(targets_all.shape[0]):\n",
    "    if targets_all[i] == 0:\n",
    "        zero_targets_counter += 1\n",
    "        if zero_targets_counter > num_one_targets:\n",
    "            indices_to_remove.append(i)\n",
    "\n",
    "# Create two new variables, one that will contain the inputs, and one that will contain the targets.\n",
    "# We delete all indices that we marked \"to remove\" in the loop above.\n",
    "unscaled_inputs_equal_priors = np.delete(unscaled_inputs_all, indices_to_remove, axis=0)\n",
    "targets_equal_priors = np.delete(targets_all, indices_to_remove, axis=0)"
   ]
  },
  {
   "cell_type": "markdown",
   "metadata": {},
   "source": [
    "### Balance dataset alternate method\n",
    "\n",
    "After using the above method to balance the datasets, it was realised that as this method iterates over the entire dataset, it may not be suitable for large datasets as this could take a large amount of time and computer resources. \n",
    "\n",
    "For completeness, another method shown below was devised which does not need to iterate over the entire dataset and can work with the entire dataset at once. This alternate method would be much more efficient when using datasets with a large number of rows."
   ]
  },
  {
   "cell_type": "code",
   "execution_count": 4,
   "metadata": {},
   "outputs": [
    {
     "name": "stdout",
     "output_type": "stream",
     "text": [
      "total:  14084\n",
      "0.0    11847\n",
      "1.0     2237\n",
      "dtype: int64\n",
      "number of rows sharing the same index:  4474\n",
      "mean targets for balanced targets : 0    0.5\n",
      "dtype: float64\n"
     ]
    }
   ],
   "source": [
    "\n",
    "#convert to pandas df\n",
    "targets_all_pd = pd.DataFrame(data=targets_all)\n",
    "inputs_all_pd = pd.DataFrame(data=unscaled_inputs_all)\n",
    "#get stats\n",
    "total = targets_all_pd.shape[0]\n",
    "print('total: ',total)\n",
    "print(targets_all_pd.value_counts())\n",
    "num_ones = targets_all_pd.value_counts().iloc[1]\n",
    "num_zeroes = targets_all_pd.value_counts().iloc[0]\n",
    "\n",
    "#we see there are 2237 - targets with ones and 11847 targets with zeroes. \n",
    "#we will downsample the zeroes so that the inputs and targets are balanced\n",
    "\n",
    "#get list of indices with zeros in targets\n",
    "zero_indices = targets_all_pd.index[targets_all_pd[0] == 0].tolist()\n",
    "#select random zeroes to drop leaving the same number of ones and zeroes, making targets balanced\n",
    "zero_indices_to_drop = random.sample(zero_indices,num_zeroes-num_ones)\n",
    "#create balanced datasets by dropping the same rows for inputs and targets\n",
    "targets_balanced = targets_all_pd.drop(index = zero_indices_to_drop) \n",
    "inputs_balanced = inputs_all_pd.drop(index = zero_indices_to_drop)\n",
    "\n",
    "#check all indexes match and datasets are balanced\n",
    "print('number of rows sharing the same index: ',sum(targets_balanced.index == inputs_balanced.index)) # we see all dfs have the same index (2237 * 2)\n",
    "print('mean targets for balanced targets :',targets_balanced.mean()) # we also see mean is 0.5 for targets so it is balanced\n",
    "\n",
    "#turn back into nparray so it can correctly be fed into ML algorithm later\n",
    "targets_balanced_np = targets_balanced.to_numpy()\n",
    "inputs_balanced_np = inputs_balanced.to_numpy()"
   ]
  },
  {
   "cell_type": "markdown",
   "metadata": {},
   "source": [
    "### Standardise the inputs\n",
    "\n",
    "Now we will standardise the inputs for a more accurate machine learning model so inputs with a large range do not skew the learning process."
   ]
  },
  {
   "cell_type": "code",
   "execution_count": 5,
   "metadata": {},
   "outputs": [],
   "source": [
    "# That's the only place we use sklearn functionality. We will take advantage of its preprocessing capabilities\n",
    "# It's a simple line of code, which standardizes the inputs, as we explained in one of the lectures.\n",
    "# At the end of the business case, you can try to run the algorithm WITHOUT this line of code. \n",
    "# The result will be interesting.\n",
    "scaled_inputs = preprocessing.scale(unscaled_inputs_equal_priors)"
   ]
  },
  {
   "cell_type": "markdown",
   "metadata": {},
   "source": [
    "### Shuffle the data\n",
    "\n",
    "Now we shuffle the data so that it is as random as possible, removing such effects like time-variability or changes in the business process and making sure the algorithm can learn on random data for the most accurate results."
   ]
  },
  {
   "cell_type": "code",
   "execution_count": 6,
   "metadata": {},
   "outputs": [],
   "source": [
    "# When the data was collected it was actually arranged by date\n",
    "# Shuffle the indices of the data, so the data is not arranged in any way when we feed it.\n",
    "# Since we will be batching, we want the data to be as randomly spread out as possible\n",
    "shuffled_indices = np.arange(scaled_inputs.shape[0])\n",
    "np.random.shuffle(shuffled_indices)\n",
    "\n",
    "# Use the shuffled indices to shuffle the inputs and targets.\n",
    "shuffled_inputs = scaled_inputs[shuffled_indices]\n",
    "shuffled_targets = targets_equal_priors[shuffled_indices]"
   ]
  },
  {
   "cell_type": "markdown",
   "metadata": {},
   "source": [
    "### Split the dataset into train, validation, and test\n",
    "\n",
    "Now we split the data into the different sets, using a split of train: 80% , validation: 10% and testing: 10%. This ensures we do not end up overfitting the model and we can check the model at the end using data the algorithm has never seen before to get a good idea of the accuracy of the model."
   ]
  },
  {
   "cell_type": "code",
   "execution_count": 7,
   "metadata": {},
   "outputs": [
    {
     "name": "stdout",
     "output_type": "stream",
     "text": [
      "1808.0 3579 0.5051690416317407\n",
      "227.0 447 0.5078299776286354\n",
      "202.0 448 0.45089285714285715\n"
     ]
    }
   ],
   "source": [
    "# Count the total number of samples\n",
    "samples_count = shuffled_inputs.shape[0]\n",
    "\n",
    "# Count the samples in each subset, assuming we want 80-10-10 distribution of training, validation, and test.\n",
    "# Naturally, the numbers are integers.\n",
    "train_samples_count = int(0.8 * samples_count)\n",
    "validation_samples_count = int(0.1 * samples_count)\n",
    "\n",
    "# The 'test' dataset contains all remaining data.\n",
    "test_samples_count = samples_count - train_samples_count - validation_samples_count\n",
    "\n",
    "# Create variables that record the inputs and targets for training\n",
    "# In our shuffled dataset, they are the first \"train_samples_count\" observations\n",
    "train_inputs = shuffled_inputs[:train_samples_count]\n",
    "train_targets = shuffled_targets[:train_samples_count]\n",
    "\n",
    "# Create variables that record the inputs and targets for validation.\n",
    "# They are the next \"validation_samples_count\" observations, folllowing the \"train_samples_count\" we already assigned\n",
    "validation_inputs = shuffled_inputs[train_samples_count:train_samples_count+validation_samples_count]\n",
    "validation_targets = shuffled_targets[train_samples_count:train_samples_count+validation_samples_count]\n",
    "\n",
    "# Create variables that record the inputs and targets for test.\n",
    "# They are everything that is remaining.\n",
    "test_inputs = shuffled_inputs[train_samples_count+validation_samples_count:]\n",
    "test_targets = shuffled_targets[train_samples_count+validation_samples_count:]\n",
    "\n",
    "# We balanced our dataset to be 50-50 (for targets 0 and 1), but the training, validation, and test were \n",
    "# taken from a shuffled dataset. Check if they are balanced, too. Note that each time you rerun this code, \n",
    "# you will get different values, as each time they are shuffled randomly.\n",
    "# Normally you preprocess ONCE, so you need not rerun this code once it is done.\n",
    "# If you rerun this whole sheet, the npzs will be overwritten with your newly preprocessed data.\n",
    "\n",
    "# Print the number of targets that are 1s, the total number of samples, and the proportion for training, validation, and test.\n",
    "print(np.sum(train_targets), train_samples_count, np.sum(train_targets) / train_samples_count)\n",
    "print(np.sum(validation_targets), validation_samples_count, np.sum(validation_targets) / validation_samples_count)\n",
    "print(np.sum(test_targets), test_samples_count, np.sum(test_targets) / test_samples_count)"
   ]
  },
  {
   "cell_type": "markdown",
   "metadata": {},
   "source": [
    "We see the sets have been split correctly and the proportion of zeroes to ones is still within an acceptable range for all the sets and so we can consider them still balanced."
   ]
  },
  {
   "cell_type": "markdown",
   "metadata": {},
   "source": [
    "### Save the three datasets in *.npz"
   ]
  },
  {
   "cell_type": "code",
   "execution_count": 8,
   "metadata": {},
   "outputs": [],
   "source": [
    "# Save the three datasets in *.npz. so they can easily be fed into the model.\n",
    "\n",
    "np.savez('Audiobooks_data_train', inputs=train_inputs, targets=train_targets)\n",
    "np.savez('Audiobooks_data_validation', inputs=validation_inputs, targets=validation_targets)\n",
    "np.savez('Audiobooks_data_test', inputs=test_inputs, targets=test_targets)"
   ]
  },
  {
   "cell_type": "markdown",
   "metadata": {},
   "source": [
    "## Create the machine learning algorithm <a name=\"model\"></a>\n",
    "\n",
    "In this section we will create the machine learning algorithm, defining the data, the model, the loss function as well as the optimising algorithm as well as any hyper parameters that might be needed."
   ]
  },
  {
   "cell_type": "markdown",
   "metadata": {},
   "source": [
    "### Data\n",
    "\n",
    "We will load the data from the npz files."
   ]
  },
  {
   "cell_type": "code",
   "execution_count": 9,
   "metadata": {},
   "outputs": [],
   "source": [
    "# let's create a temporary variable npz, where we will store each of the three Audiobooks datasets\n",
    "npz = np.load('Audiobooks_data_train.npz')\n",
    "\n",
    "# we extract the inputs using the keyword under which we saved them\n",
    "# to ensure that they are all floats, let's also take care of that\n",
    "train_inputs = npz['inputs'].astype(np.float)\n",
    "# targets must be int because of sparse_categorical_crossentropy (we want to be able to smoothly one-hot encode them)\n",
    "train_targets = npz['targets'].astype(np.int)\n",
    "\n",
    "# we load the validation data in the temporary variable\n",
    "npz = np.load('Audiobooks_data_validation.npz')\n",
    "# we can load the inputs and the targets in the same line\n",
    "validation_inputs, validation_targets = npz['inputs'].astype(np.float), npz['targets'].astype(np.int)\n",
    "\n",
    "# we load the test data in the temporary variable\n",
    "npz = np.load('Audiobooks_data_test.npz')\n",
    "# we create 2 variables that will contain the test inputs and the test targets\n",
    "test_inputs, test_targets = npz['inputs'].astype(np.float), npz['targets'].astype(np.int)"
   ]
  },
  {
   "cell_type": "markdown",
   "metadata": {},
   "source": [
    "### Model\n",
    "\n",
    "We will outline the model,choose optimizers and loss methods,and then set early stopping. We will then move onto feeding the data into the model and completing the training of the model."
   ]
  },
  {
   "cell_type": "code",
   "execution_count": 10,
   "metadata": {},
   "outputs": [
    {
     "name": "stdout",
     "output_type": "stream",
     "text": [
      "Epoch 1/100\n",
      "36/36 - 1s - loss: 0.6956 - accuracy: 0.4962 - val_loss: 0.6878 - val_accuracy: 0.5369\n",
      "Epoch 2/100\n",
      "36/36 - 0s - loss: 0.6773 - accuracy: 0.5569 - val_loss: 0.6694 - val_accuracy: 0.5861\n",
      "Epoch 3/100\n",
      "36/36 - 0s - loss: 0.6578 - accuracy: 0.6108 - val_loss: 0.6509 - val_accuracy: 0.6219\n",
      "Epoch 4/100\n",
      "36/36 - 0s - loss: 0.6379 - accuracy: 0.6398 - val_loss: 0.6322 - val_accuracy: 0.6353\n",
      "Epoch 5/100\n",
      "36/36 - 0s - loss: 0.6179 - accuracy: 0.6642 - val_loss: 0.6141 - val_accuracy: 0.6667\n",
      "Epoch 6/100\n",
      "36/36 - 0s - loss: 0.5983 - accuracy: 0.6963 - val_loss: 0.5968 - val_accuracy: 0.6935\n",
      "Epoch 7/100\n",
      "36/36 - 0s - loss: 0.5791 - accuracy: 0.7128 - val_loss: 0.5805 - val_accuracy: 0.7002\n",
      "Epoch 8/100\n",
      "36/36 - 0s - loss: 0.5608 - accuracy: 0.7265 - val_loss: 0.5648 - val_accuracy: 0.7092\n",
      "Epoch 9/100\n",
      "36/36 - 0s - loss: 0.5431 - accuracy: 0.7318 - val_loss: 0.5499 - val_accuracy: 0.7136\n",
      "Epoch 10/100\n",
      "36/36 - 0s - loss: 0.5263 - accuracy: 0.7418 - val_loss: 0.5369 - val_accuracy: 0.7159\n",
      "Epoch 11/100\n",
      "36/36 - 0s - loss: 0.5104 - accuracy: 0.7446 - val_loss: 0.5239 - val_accuracy: 0.7226\n",
      "Epoch 12/100\n",
      "36/36 - 0s - loss: 0.4955 - accuracy: 0.7513 - val_loss: 0.5119 - val_accuracy: 0.7226\n",
      "Epoch 13/100\n",
      "36/36 - 1s - loss: 0.4819 - accuracy: 0.7592 - val_loss: 0.5012 - val_accuracy: 0.7204\n",
      "Epoch 14/100\n",
      "36/36 - 1s - loss: 0.4695 - accuracy: 0.7619 - val_loss: 0.4922 - val_accuracy: 0.7248\n",
      "Epoch 15/100\n",
      "36/36 - 1s - loss: 0.4582 - accuracy: 0.7706 - val_loss: 0.4830 - val_accuracy: 0.7271\n",
      "Epoch 16/100\n",
      "36/36 - 1s - loss: 0.4481 - accuracy: 0.7720 - val_loss: 0.4747 - val_accuracy: 0.7293\n",
      "Epoch 17/100\n",
      "36/36 - 0s - loss: 0.4387 - accuracy: 0.7751 - val_loss: 0.4688 - val_accuracy: 0.7315\n",
      "Epoch 18/100\n",
      "36/36 - 0s - loss: 0.4307 - accuracy: 0.7762 - val_loss: 0.4610 - val_accuracy: 0.7315\n",
      "Epoch 19/100\n",
      "36/36 - 0s - loss: 0.4230 - accuracy: 0.7832 - val_loss: 0.4549 - val_accuracy: 0.7427\n",
      "Epoch 20/100\n",
      "36/36 - 1s - loss: 0.4159 - accuracy: 0.7888 - val_loss: 0.4509 - val_accuracy: 0.7494\n",
      "Epoch 21/100\n",
      "36/36 - 1s - loss: 0.4100 - accuracy: 0.7879 - val_loss: 0.4453 - val_accuracy: 0.7450\n",
      "Epoch 22/100\n",
      "36/36 - 1s - loss: 0.4039 - accuracy: 0.7960 - val_loss: 0.4403 - val_accuracy: 0.7472\n",
      "Epoch 23/100\n",
      "36/36 - 0s - loss: 0.3985 - accuracy: 0.7941 - val_loss: 0.4385 - val_accuracy: 0.7472\n",
      "Epoch 24/100\n",
      "36/36 - 0s - loss: 0.3940 - accuracy: 0.7983 - val_loss: 0.4334 - val_accuracy: 0.7539\n",
      "Epoch 25/100\n",
      "36/36 - 0s - loss: 0.3896 - accuracy: 0.7994 - val_loss: 0.4306 - val_accuracy: 0.7539\n",
      "Epoch 26/100\n",
      "36/36 - 0s - loss: 0.3856 - accuracy: 0.7960 - val_loss: 0.4282 - val_accuracy: 0.7494\n",
      "Epoch 27/100\n",
      "36/36 - 0s - loss: 0.3820 - accuracy: 0.7999 - val_loss: 0.4255 - val_accuracy: 0.7606\n",
      "Epoch 28/100\n",
      "36/36 - 1s - loss: 0.3786 - accuracy: 0.8008 - val_loss: 0.4227 - val_accuracy: 0.7629\n",
      "Epoch 29/100\n",
      "36/36 - 1s - loss: 0.3754 - accuracy: 0.8027 - val_loss: 0.4199 - val_accuracy: 0.7606\n",
      "Epoch 30/100\n",
      "36/36 - 0s - loss: 0.3727 - accuracy: 0.8030 - val_loss: 0.4179 - val_accuracy: 0.7606\n",
      "Epoch 31/100\n",
      "36/36 - 0s - loss: 0.3699 - accuracy: 0.8086 - val_loss: 0.4170 - val_accuracy: 0.7606\n",
      "Epoch 32/100\n",
      "36/36 - 0s - loss: 0.3673 - accuracy: 0.8078 - val_loss: 0.4140 - val_accuracy: 0.7696\n",
      "Epoch 33/100\n",
      "36/36 - 1s - loss: 0.3653 - accuracy: 0.8108 - val_loss: 0.4126 - val_accuracy: 0.7629\n",
      "Epoch 34/100\n",
      "36/36 - 1s - loss: 0.3626 - accuracy: 0.8134 - val_loss: 0.4108 - val_accuracy: 0.7696\n",
      "Epoch 35/100\n",
      "36/36 - 1s - loss: 0.3612 - accuracy: 0.8117 - val_loss: 0.4094 - val_accuracy: 0.7651\n",
      "Epoch 36/100\n",
      "36/36 - 0s - loss: 0.3593 - accuracy: 0.8161 - val_loss: 0.4081 - val_accuracy: 0.7651\n",
      "Epoch 37/100\n",
      "36/36 - 1s - loss: 0.3581 - accuracy: 0.8125 - val_loss: 0.4078 - val_accuracy: 0.7562\n",
      "Epoch 38/100\n",
      "36/36 - 1s - loss: 0.3559 - accuracy: 0.8201 - val_loss: 0.4067 - val_accuracy: 0.7606\n",
      "Epoch 39/100\n",
      "36/36 - 1s - loss: 0.3539 - accuracy: 0.8153 - val_loss: 0.4048 - val_accuracy: 0.7718\n",
      "Epoch 40/100\n",
      "36/36 - 0s - loss: 0.3527 - accuracy: 0.8139 - val_loss: 0.4040 - val_accuracy: 0.7584\n",
      "Epoch 41/100\n",
      "36/36 - 0s - loss: 0.3507 - accuracy: 0.8178 - val_loss: 0.4023 - val_accuracy: 0.7696\n",
      "Epoch 42/100\n",
      "36/36 - 1s - loss: 0.3504 - accuracy: 0.8142 - val_loss: 0.4015 - val_accuracy: 0.7740\n",
      "Epoch 43/100\n",
      "36/36 - 1s - loss: 0.3486 - accuracy: 0.8192 - val_loss: 0.4009 - val_accuracy: 0.7696\n",
      "Epoch 44/100\n",
      "36/36 - 0s - loss: 0.3474 - accuracy: 0.8181 - val_loss: 0.3997 - val_accuracy: 0.7606\n",
      "Epoch 45/100\n",
      "36/36 - 1s - loss: 0.3463 - accuracy: 0.8175 - val_loss: 0.3997 - val_accuracy: 0.7763\n",
      "Epoch 46/100\n",
      "36/36 - 1s - loss: 0.3456 - accuracy: 0.8189 - val_loss: 0.3987 - val_accuracy: 0.7651\n",
      "Epoch 47/100\n",
      "36/36 - 0s - loss: 0.3430 - accuracy: 0.8234 - val_loss: 0.4019 - val_accuracy: 0.7584\n",
      "Epoch 48/100\n",
      "36/36 - 1s - loss: 0.3430 - accuracy: 0.8234 - val_loss: 0.3967 - val_accuracy: 0.7651\n",
      "Epoch 49/100\n",
      "36/36 - 1s - loss: 0.3416 - accuracy: 0.8226 - val_loss: 0.3971 - val_accuracy: 0.7651\n",
      "Epoch 50/100\n",
      "36/36 - 1s - loss: 0.3408 - accuracy: 0.8243 - val_loss: 0.3945 - val_accuracy: 0.7673\n",
      "Epoch 51/100\n",
      "36/36 - 0s - loss: 0.3402 - accuracy: 0.8203 - val_loss: 0.3965 - val_accuracy: 0.7606\n",
      "Epoch 52/100\n",
      "36/36 - 0s - loss: 0.3392 - accuracy: 0.8217 - val_loss: 0.3952 - val_accuracy: 0.7629\n",
      "Epoch 53/100\n",
      "36/36 - 0s - loss: 0.3387 - accuracy: 0.8209 - val_loss: 0.3946 - val_accuracy: 0.7651\n",
      "Epoch 54/100\n",
      "36/36 - 1s - loss: 0.3380 - accuracy: 0.8215 - val_loss: 0.3939 - val_accuracy: 0.7629\n",
      "Epoch 55/100\n",
      "36/36 - 1s - loss: 0.3370 - accuracy: 0.8220 - val_loss: 0.3925 - val_accuracy: 0.7718\n",
      "Epoch 56/100\n",
      "36/36 - 1s - loss: 0.3359 - accuracy: 0.8212 - val_loss: 0.3915 - val_accuracy: 0.7718\n",
      "Epoch 57/100\n",
      "36/36 - 0s - loss: 0.3353 - accuracy: 0.8234 - val_loss: 0.3910 - val_accuracy: 0.7673\n",
      "Epoch 58/100\n",
      "36/36 - 1s - loss: 0.3345 - accuracy: 0.8265 - val_loss: 0.3900 - val_accuracy: 0.7673\n",
      "Epoch 59/100\n",
      "36/36 - 0s - loss: 0.3336 - accuracy: 0.8279 - val_loss: 0.3903 - val_accuracy: 0.7673\n",
      "Epoch 60/100\n",
      "36/36 - 0s - loss: 0.3334 - accuracy: 0.8231 - val_loss: 0.3897 - val_accuracy: 0.7673\n",
      "Epoch 61/100\n",
      "36/36 - 0s - loss: 0.3323 - accuracy: 0.8268 - val_loss: 0.3887 - val_accuracy: 0.7673\n",
      "Epoch 62/100\n",
      "36/36 - 0s - loss: 0.3319 - accuracy: 0.8265 - val_loss: 0.3873 - val_accuracy: 0.7696\n",
      "Epoch 63/100\n",
      "36/36 - 0s - loss: 0.3308 - accuracy: 0.8226 - val_loss: 0.3876 - val_accuracy: 0.7651\n",
      "Epoch 64/100\n",
      "36/36 - 0s - loss: 0.3304 - accuracy: 0.8287 - val_loss: 0.3887 - val_accuracy: 0.7673\n",
      "Epoch 65/100\n",
      "36/36 - 0s - loss: 0.3295 - accuracy: 0.8273 - val_loss: 0.3862 - val_accuracy: 0.7696\n",
      "Epoch 66/100\n",
      "36/36 - 0s - loss: 0.3291 - accuracy: 0.8254 - val_loss: 0.3872 - val_accuracy: 0.7696\n",
      "Epoch 67/100\n",
      "36/36 - 0s - loss: 0.3284 - accuracy: 0.8256 - val_loss: 0.3870 - val_accuracy: 0.7740\n",
      "Epoch 68/100\n",
      "36/36 - 0s - loss: 0.3281 - accuracy: 0.8312 - val_loss: 0.3851 - val_accuracy: 0.7740\n",
      "Epoch 69/100\n",
      "36/36 - 0s - loss: 0.3273 - accuracy: 0.8248 - val_loss: 0.3865 - val_accuracy: 0.7740\n",
      "Epoch 70/100\n",
      "36/36 - 0s - loss: 0.3267 - accuracy: 0.8284 - val_loss: 0.3855 - val_accuracy: 0.7718\n",
      "Epoch 71/100\n",
      "36/36 - 0s - loss: 0.3262 - accuracy: 0.8290 - val_loss: 0.3840 - val_accuracy: 0.7763\n",
      "Epoch 72/100\n",
      "36/36 - 0s - loss: 0.3259 - accuracy: 0.8284 - val_loss: 0.3825 - val_accuracy: 0.7785\n",
      "Epoch 73/100\n",
      "36/36 - 1s - loss: 0.3258 - accuracy: 0.8262 - val_loss: 0.3847 - val_accuracy: 0.7696\n",
      "Epoch 74/100\n",
      "36/36 - 1s - loss: 0.3251 - accuracy: 0.8296 - val_loss: 0.3849 - val_accuracy: 0.7696\n",
      "Epoch 75/100\n",
      "36/36 - 1s - loss: 0.3245 - accuracy: 0.8268 - val_loss: 0.3829 - val_accuracy: 0.7763\n",
      "Epoch 76/100\n",
      "36/36 - 1s - loss: 0.3245 - accuracy: 0.8304 - val_loss: 0.3850 - val_accuracy: 0.7718\n"
     ]
    },
    {
     "data": {
      "text/plain": [
       "<tensorflow.python.keras.callbacks.History at 0x7fa766875af0>"
      ]
     },
     "execution_count": 10,
     "metadata": {},
     "output_type": "execute_result"
    }
   ],
   "source": [
    "# Set the input and output sizes\n",
    "input_size = 10 # 10 input variables\n",
    "output_size = 2 # output is logistic (0 or 1)\n",
    "# Use same hidden layer size for both hidden layers. Not a necessity.\n",
    "hidden_layer_size = 100\n",
    "    \n",
    "# define how the model will look like\n",
    "model = tf.keras.Sequential([\n",
    "    # tf.keras.layers.Dense is basically implementing: output = activation(dot(input, weight) + bias)\n",
    "    # it takes several arguments, but the most important ones for us are the hidden_layer_size and the activation function\n",
    "    tf.keras.layers.Dense(hidden_layer_size, activation='relu'), # 1st hidden layer\n",
    "    tf.keras.layers.Dense(hidden_layer_size, activation='relu'), # 2nd hidden layer\n",
    "    tf.keras.layers.Dense(hidden_layer_size, activation='tanh'), # 3rd hidden layer\n",
    "    tf.keras.layers.Dense(hidden_layer_size, activation='relu'), # 4th hidden layer \n",
    "    # the final layer is no different, we just make sure to activate it with softmax\n",
    "    tf.keras.layers.Dense(output_size, activation='softmax') # output layer\n",
    "])\n",
    "\n",
    "\n",
    "### Choose the optimizer and the loss function\n",
    "\n",
    "# we define the optimizer we'd like to use, \n",
    "# the loss function, \n",
    "# and the metrics we are interested in obtaining at each iteration\n",
    "\n",
    "#call the adam optimizer explicitly so we can change the hyper parameters\n",
    "optim_model = tf.keras.optimizers.Adam(\n",
    "    learning_rate=0.00005, beta_1=0.5, beta_2=0.999, epsilon=0.001, amsgrad=True,\n",
    "    name='Adam',\n",
    ")\n",
    "\n",
    "model.compile(optimizer=optim_model, loss='sparse_categorical_crossentropy', metrics=['accuracy'],)\n",
    "\n",
    "### Training\n",
    "# That's where we train the model we have built.\n",
    "\n",
    "# set the batch size\n",
    "batch_size = 100\n",
    "\n",
    "# set a maximum number of training epochs\n",
    "max_epochs = 100\n",
    "\n",
    "# set an early stopping mechanism\n",
    "# let's set patience=2, to be a bit tolerant against random validation loss increases (validation loss can increase twice before algorithm is halted)\n",
    "early_stopping = tf.keras.callbacks.EarlyStopping(patience=4)\n",
    "\n",
    "\n",
    "# fit the model\n",
    "# note that this time the train, validation and test data are not iterable\n",
    "model.fit(train_inputs, # train inputs\n",
    "          train_targets, # train targets\n",
    "          batch_size=batch_size, # batch size\n",
    "          epochs=max_epochs, # epochs that we will train for (assuming early stopping doesn't kick in)\n",
    "          # callbacks are functions called by a task when a task is completed\n",
    "          # task here is to check if val_loss is increasing\n",
    "          callbacks=[early_stopping], # early stopping\n",
    "          validation_data=(validation_inputs, validation_targets), # validation data\n",
    "          verbose = 2 # making sure we get enough information about the training process\n",
    "          )  "
   ]
  },
  {
   "cell_type": "markdown",
   "metadata": {},
   "source": [
    "## Test the model <a name=\"test\"></a>\n",
    "\n",
    "After training on the training data and validating on the validation data, we test the final prediction power of our model by running it on the test dataset that the algorithm has NEVER seen before.\n",
    "\n",
    "It is very important to realize that fiddling with the hyperparameters overfits the validation dataset. \n",
    "\n",
    "The test is the absolute final instance. We should not test before we are completely done with adjusting your model.\n",
    "\n",
    "If we adjust the model after testing, we will start overfitting the test dataset, which will defeat its purpose."
   ]
  },
  {
   "cell_type": "code",
   "execution_count": 11,
   "metadata": {},
   "outputs": [
    {
     "name": "stdout",
     "output_type": "stream",
     "text": [
      "14/14 [==============================] - 0s 10ms/step - loss: 0.3372 - accuracy: 0.8326\n"
     ]
    }
   ],
   "source": [
    "test_loss, test_accuracy = model.evaluate(test_inputs, test_targets)"
   ]
  },
  {
   "cell_type": "code",
   "execution_count": 12,
   "metadata": {},
   "outputs": [
    {
     "name": "stdout",
     "output_type": "stream",
     "text": [
      "\n",
      "Test loss: 0.34. Test accuracy: 83.26%\n"
     ]
    }
   ],
   "source": [
    "print('\\nTest loss: {0:.2f}. Test accuracy: {1:.2f}%'.format(test_loss, test_accuracy*100.))"
   ]
  },
  {
   "cell_type": "markdown",
   "metadata": {},
   "source": [
    "### Conclusions\n",
    "\n"
   ]
  },
  {
   "cell_type": "markdown",
   "metadata": {},
   "source": [
    "We can see that the algorithm above obtained an accuracy of around 83%. I think this is a suitable level of accuracy for the purpose of this model as we are trying to target users with selective advertising and so in theory we can generate more income from 83 % of the users who we send the advertising out to. \n",
    "\n",
    "Many variations of the hyper-parameters were tried to see if the accuracy could be improved, but all the different models only seem able to generate an accuracy of around 80 %. This suggests that if further accuracy is required, more data would need to be aquired and fed into the model so it can learn more effectively which inputs lead to a successful conversion. "
   ]
  }
 ],
 "metadata": {
  "kernelspec": {
   "display_name": "Python [conda env:py3-TF2]",
   "language": "python",
   "name": "conda-env-py3-TF2-py"
  },
  "language_info": {
   "codemirror_mode": {
    "name": "ipython",
    "version": 3
   },
   "file_extension": ".py",
   "mimetype": "text/x-python",
   "name": "python",
   "nbconvert_exporter": "python",
   "pygments_lexer": "ipython3",
   "version": "3.8.5"
  }
 },
 "nbformat": 4,
 "nbformat_minor": 2
}
