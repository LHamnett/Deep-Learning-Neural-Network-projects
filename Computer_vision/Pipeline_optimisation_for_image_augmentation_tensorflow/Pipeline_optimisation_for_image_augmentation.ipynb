{
  "nbformat": 4,
  "nbformat_minor": 0,
  "metadata": {
    "colab": {
      "name": "augmentation_optimisation.ipynb",
      "provenance": [],
      "collapsed_sections": []
    },
    "kernelspec": {
      "name": "python3",
      "display_name": "Python 3"
    },
    "language_info": {
      "name": "python"
    },
    "accelerator": "GPU"
  },
  "cells": [
    {
      "cell_type": "markdown",
      "metadata": {
        "id": "MUMYhZVCNGl9"
      },
      "source": [
        "##  Optimising image augmentations across an entire image data-set using a custom tensorflow pipeline\n",
        "\n",
        "### Author/ML Engineer: Leon Hamnett - [linkedIn](https://www.linkedin.com/in/leon-hamnett/)\n",
        "\n",
        "\n",
        "### Introduction:\n",
        "\n",
        "As part of a team of machine learning engineers, I took part in a [datadriven contest](https://https-deeplearning-ai.github.io/data-centric-comp/) organised by Andrew Ng (a well known machine learning teacher and researcher). The aim of this competition was to focus on methods to improve dataset quality as opposed to improving the machine learning model itself. \n",
        "\n",
        "During this contest we created a number of different image datasets using such methods as cleaning and relabelling the existing dataset, creating synthetic data and applying a number of different image transforms and augmentations on the images. \n",
        "\n",
        "During dataset augmentation within computer vision, it is necessary to augment the existing dataset using things like rotations or flipping of images to generate a more robust dataset and train the model to a higher quality.\n",
        "\n",
        "This notebook was used to apply image augmentations and transformations to an entire image dataset as efficiently as possible. To do this we build a pipeline using the tensorflow library which performs the following functions:\n",
        "\n",
        "1. Read in a list of filenames, and then \n",
        "2. Using parallel processing and optimised code, read and load the images from the filenames\n",
        "3. Turn images into arrays of pixel values\n",
        "4. Apply a set of transformations, augmentations and image resizing operations across the entire image dataset using tensors\n",
        "4. Convert the set of transformed images from tensor format, back into pixel values and then save the augmented dataset.\n",
        "\n",
        "### Importing libaries:\n",
        "\n",
        "During this notebook, we use some of the lower level tensorflow functions to construct our input and output pipelines, and also we use a number of computer vision packages like cv2 as well as a package called albumentations, specifcially designed for image augmentations. We also use file and folder manipulation packages like os and shutil to copy and move our data around. "
      ]
    },
    {
      "cell_type": "code",
      "metadata": {
        "id": "MnEHHq0FJpTM",
        "colab": {
          "base_uri": "https://localhost:8080/"
        },
        "outputId": "bfc0ee5b-e0c8-477f-d8b0-1b660f1a7c3b"
      },
      "source": [
        "import tensorflow as tf\n",
        "from tensorflow import keras\n",
        "AUTOTUNE = tf.data.experimental.AUTOTUNE\n",
        "%load_ext tensorboard\n",
        "from tensorboard.plugins.hparams import api as hp\n",
        "import tensorflow_datasets as tfds\n",
        "\n",
        "import matplotlib.pyplot as plt\n",
        "import matplotlib.image as mpimg\n",
        "import cv2\n",
        "!pip install git+https://github.com/albumentations-team/albumentations\n",
        "import albumentations as A\n",
        "\n",
        "import json\n",
        "import sys\n",
        "import os\n",
        "from os import getcwd\n",
        "import shutil\n",
        "import numpy as np\n",
        "import random\n",
        "#!pip install -U keras-tuner\n",
        "#import keras_tuner as kt"
      ],
      "execution_count": null,
      "outputs": [
        {
          "output_type": "stream",
          "name": "stdout",
          "text": [
            "Collecting git+https://github.com/albumentations-team/albumentations\n",
            "  Cloning https://github.com/albumentations-team/albumentations to /tmp/pip-req-build-6yj8pr5o\n",
            "  Running command git clone -q https://github.com/albumentations-team/albumentations /tmp/pip-req-build-6yj8pr5o\n",
            "Requirement already satisfied: numpy>=1.11.1 in /usr/local/lib/python3.7/dist-packages (from albumentations==1.0.3) (1.19.5)\n",
            "Requirement already satisfied: scipy in /usr/local/lib/python3.7/dist-packages (from albumentations==1.0.3) (1.4.1)\n",
            "Requirement already satisfied: scikit-image>=0.16.1 in /usr/local/lib/python3.7/dist-packages (from albumentations==1.0.3) (0.16.2)\n",
            "Requirement already satisfied: PyYAML in /usr/local/lib/python3.7/dist-packages (from albumentations==1.0.3) (3.13)\n",
            "Requirement already satisfied: qudida>=0.0.4 in /usr/local/lib/python3.7/dist-packages (from albumentations==1.0.3) (0.0.4)\n",
            "Requirement already satisfied: opencv-python>=4.1.1 in /usr/local/lib/python3.7/dist-packages (from albumentations==1.0.3) (4.1.2.30)\n",
            "Requirement already satisfied: opencv-python-headless>=4.0.1 in /usr/local/lib/python3.7/dist-packages (from qudida>=0.0.4->albumentations==1.0.3) (4.5.3.56)\n",
            "Requirement already satisfied: typing-extensions in /usr/local/lib/python3.7/dist-packages (from qudida>=0.0.4->albumentations==1.0.3) (3.7.4.3)\n",
            "Requirement already satisfied: scikit-learn>=0.19.1 in /usr/local/lib/python3.7/dist-packages (from qudida>=0.0.4->albumentations==1.0.3) (0.22.2.post1)\n",
            "Requirement already satisfied: PyWavelets>=0.4.0 in /usr/local/lib/python3.7/dist-packages (from scikit-image>=0.16.1->albumentations==1.0.3) (1.1.1)\n",
            "Requirement already satisfied: imageio>=2.3.0 in /usr/local/lib/python3.7/dist-packages (from scikit-image>=0.16.1->albumentations==1.0.3) (2.4.1)\n",
            "Requirement already satisfied: pillow>=4.3.0 in /usr/local/lib/python3.7/dist-packages (from scikit-image>=0.16.1->albumentations==1.0.3) (7.1.2)\n",
            "Requirement already satisfied: networkx>=2.0 in /usr/local/lib/python3.7/dist-packages (from scikit-image>=0.16.1->albumentations==1.0.3) (2.6.2)\n",
            "Requirement already satisfied: matplotlib!=3.0.0,>=2.0.0 in /usr/local/lib/python3.7/dist-packages (from scikit-image>=0.16.1->albumentations==1.0.3) (3.2.2)\n",
            "Requirement already satisfied: pyparsing!=2.0.4,!=2.1.2,!=2.1.6,>=2.0.1 in /usr/local/lib/python3.7/dist-packages (from matplotlib!=3.0.0,>=2.0.0->scikit-image>=0.16.1->albumentations==1.0.3) (2.4.7)\n",
            "Requirement already satisfied: python-dateutil>=2.1 in /usr/local/lib/python3.7/dist-packages (from matplotlib!=3.0.0,>=2.0.0->scikit-image>=0.16.1->albumentations==1.0.3) (2.8.2)\n",
            "Requirement already satisfied: cycler>=0.10 in /usr/local/lib/python3.7/dist-packages (from matplotlib!=3.0.0,>=2.0.0->scikit-image>=0.16.1->albumentations==1.0.3) (0.10.0)\n",
            "Requirement already satisfied: kiwisolver>=1.0.1 in /usr/local/lib/python3.7/dist-packages (from matplotlib!=3.0.0,>=2.0.0->scikit-image>=0.16.1->albumentations==1.0.3) (1.3.1)\n",
            "Requirement already satisfied: six in /usr/local/lib/python3.7/dist-packages (from cycler>=0.10->matplotlib!=3.0.0,>=2.0.0->scikit-image>=0.16.1->albumentations==1.0.3) (1.15.0)\n",
            "Requirement already satisfied: joblib>=0.11 in /usr/local/lib/python3.7/dist-packages (from scikit-learn>=0.19.1->qudida>=0.0.4->albumentations==1.0.3) (1.0.1)\n"
          ]
        }
      ]
    },
    {
      "cell_type": "code",
      "metadata": {
        "colab": {
          "base_uri": "https://localhost:8080/"
        },
        "id": "60kMGEH5mbm0",
        "outputId": "1e1c95c3-0181-41e0-ae79-b90f13950139"
      },
      "source": [
        "#mount google drive to access files\n",
        "from google.colab import drive\n",
        "drive.mount('/content/drive')"
      ],
      "execution_count": null,
      "outputs": [
        {
          "output_type": "stream",
          "name": "stdout",
          "text": [
            "Mounted at /content/drive\n"
          ]
        }
      ]
    },
    {
      "cell_type": "markdown",
      "metadata": {
        "id": "U2TVA5g0PnsU"
      },
      "source": [
        "### Setting up the folder structure:"
      ]
    },
    {
      "cell_type": "code",
      "metadata": {
        "colab": {
          "base_uri": "https://localhost:8080/"
        },
        "id": "IoqMfJAYf9F9",
        "outputId": "8f1ce24e-8fa3-4558-8eac-4e2e69200dc1"
      },
      "source": [
        "print(os.getcwd()) # check current working directory\n",
        "os.chdir('/content/drive/MyDrive/Datadriven_contest/Training') #set working directory\n",
        "print(os.getcwd())\n",
        "images = '/content/drive/MyDrive/Datadriven_contest/Image_datasets'\n",
        "print(os.listdir(images)) #check image folders to choose from\n",
        "#change image_dir below to correctly refer to folder with train_valid images\n",
        "image_dir = \"/content/drive/MyDrive/Datadriven_contest/Image_datasets\"\n",
        "train_dir = os.path.join(image_dir,'to_process/train')\n"
      ],
      "execution_count": null,
      "outputs": [
        {
          "output_type": "stream",
          "name": "stdout",
          "text": [
            "/content\n",
            "/content/drive/MyDrive/Datadriven_contest/Training\n",
            "['baseline.zip', 'image_gen.zip', 'current_train', 'combined', 'baseline', 'image_gen', 'image_gen_base.zip', '.ipynb_checkpoints', 'image_generated_and_baseline', 'baseline_and_aug_zoom_flip', 'augmented_zoom_flip', 'augmented_blur', 'augmented_thresh', 'image_gen2_with_curls.zip', 'image_gen2_curls_aug_transl', 'baseline_imagegen2_aug_zoom_flip_thresh_blur', 'baseline_imagegen2_aug_zoom_flip_thresh_blur.zip', 'baseline_imagegen2', 'image_gen3_no_aug.zip', 'image_gen3_no_aug', 'baseline_test_upsampled', 'baseline_test_upsampled_flip', 'image_gen4_no_aug_smaller.zip', 'image_gen4_no_aug', 'image_gen4_baseline_test_upsampled', 'processed_images_01', 'processed_images_01_train_val', 'Create_shuffle train val split for train.ipynb', 'processed_images_01_train_val.zip', 'processed_images_02', 'processed_images_02_train_val', 'augmented_shift_rotate.zip', 'to_process', 'Final -Create shuffle train val split for train (>10,000 images).ipynb']\n"
          ]
        }
      ]
    },
    {
      "cell_type": "markdown",
      "metadata": {
        "id": "L9O4oXK31BJZ"
      },
      "source": [
        "### Define the function to apply the transformations:\n",
        "\n",
        "We define a function that takes as input a folder path with the images to be transformed, a function cointaining a series of transformations to apply, as well a batch size for the output of the tensor containing the transformed images. \n",
        "\n",
        "The function has the following sub functions:\n",
        "1. get_files_labels - generates a list of file paths and associated class labels\n",
        "2. parse_image - uses parallel processing to read in the filenames, use the filename to load in the images, turn the images into an array of numbers, then apply the image augmentations and transformations.\n",
        "3. tf_parse_image - wrapper function for the above function. As we are applying python/numpy transformations to a set of tensors, we need to wrap the parse image function so it works with the tensorflow framework.\n",
        "4. configure_for_performance - this function shuffles, batches and prefetches the dataset to ensure the new dataset with the transformed images can be created as quickly as possible. "
      ]
    },
    {
      "cell_type": "code",
      "metadata": {
        "colab": {
          "base_uri": "https://localhost:8080/"
        },
        "id": "WPfOkTyjsxU9",
        "outputId": "f953e6dd-2a0a-4a8a-aaa0-281962a005f3"
      },
      "source": [
        "#better for efficiency , can include augmentation function\n",
        "#this function will take a folder path as input, as well as a transformation function or functions (currently using: https://albumentations.ai/docs/) , and batch size.\n",
        "#it can then create datasets of transfortmed images and associated labels, either combined into a single dataset with tf.zip or as two separate datasets of images and labels.\n",
        "def make_dataset(path, transform_f, batch_size):\n",
        "  numerals = [\"i\", \"ii\", \"iii\", \"iv\", \"v\", \"vi\", \"vii\", \"viii\", \"ix\", \"x\"] #class labels\n",
        "  #get filepaths and labels\n",
        "  def get_files_labels(input_dir):\n",
        "    image_paths = [] #empty list to store filepaths\n",
        "    labels = [] # empty list to store image labels\n",
        "    labels_zero = [0]*10 # initialise array of zeros, so we can use this to apply one-hot encoding to the image labels\n",
        "\n",
        "    for root, dirnames, filenames in os.walk(input_dir): #look at all folders and subfolders and get the filenames\n",
        "        for filename in filenames: #loop through filenames\n",
        "            temp_path = os.path.join(root,filename) # temp filepath\n",
        "            image_paths.append(temp_path) # add to image paths list\n",
        "            int_label = numerals.index(temp_path.split('/')[-2]) # split filename path to get integer value for label \n",
        "            temp_label = labels_zero.copy()\n",
        "            temp_label[int_label] = 1 #one-hot encode the label\n",
        "            labels.append(temp_label) # add label to label list\n",
        "    return image_paths, labels \n",
        "\n",
        "  filenames,labels = get_files_labels(path) #make filenames and labels\n",
        "  print('got filenames and labels from dir')\n",
        "\n",
        "  #load image and apply augmentations\n",
        "  def parse_image(filename):\n",
        "    image = tf.io.read_file(filename) #read filename\n",
        "    image = tf.io.decode_png(image, channels=0) #convert from png greyscale\n",
        "    np_image = image.numpy()[:,:,0]  #convert to np array , drop channel dim as color dim not needed\n",
        "\n",
        "    if transform_f == None: # if no transform is given, no image transforation is needed\n",
        "      aug_image = np_image\n",
        "    else:\n",
        "      aug_image = transform_f(image=np_image)[\"image\"] #apply transformations/augmentations on image\n",
        "\n",
        "    aug_image = tf.cast(aug_image, tf.float32) #convert type to match with wrapper function\n",
        "    return aug_image\n",
        "\n",
        "  #wrap parse image function as tensorflow function\n",
        "  def tf_parse_image(input):\n",
        "    y = tf.numpy_function(parse_image, [input],tf.float32) \n",
        "    return y \n",
        "\n",
        "  def configure_for_performance(ds): #takes tensor dataset as input and optimises for repeated calls \n",
        "    ds = ds.shuffle(buffer_size=10000)\n",
        "    ds = ds.batch(batch_size)\n",
        "    ds = ds.repeat()\n",
        "    ds = ds.prefetch(buffer_size=tf.data.experimental.AUTOTUNE)\n",
        "    return ds\n",
        "\n",
        "  \n",
        "  filenames_ds = tf.data.Dataset.from_tensor_slices(filenames) #make dataset of filenames\n",
        "  print('file names parsed')\n",
        "  images_ds = filenames_ds.map(lambda x: tf_parse_image(x), num_parallel_calls=tf.data.experimental.AUTOTUNE) #maps parse image function to filenames dataset to create images\n",
        "  labels_ds = tf.data.Dataset.from_tensor_slices(labels) #make ds of labels\n",
        "\n",
        "  print('made image and label ds')\n",
        "  ds_out = tf.data.Dataset.zip((images_ds, labels_ds)) #combine each transformed image with its associated label and make into new dataset\n",
        "  print('merged image and label ds')\n",
        "  \n",
        "  ds_out = configure_for_performance(ds_out) # shuffle, batch, prefetch\n",
        "  print('done')\n",
        "  return ds_out \n",
        "\n",
        "# we configure a basic transform to make sure the pipeline is working correctly\n",
        "transform = A.Compose([\n",
        "    A.Rotate (limit=90, interpolation=1, always_apply=False, p=0.0),\n",
        "    A.Resize(64,64)\n",
        "])\n",
        "\n",
        "ds_out = make_dataset(train_dir,transform,512)"
      ],
      "execution_count": null,
      "outputs": [
        {
          "output_type": "stream",
          "name": "stdout",
          "text": [
            "got filenames and labels from dir\n",
            "file names parsed\n",
            "made image and label ds\n",
            "merged image and label ds\n",
            "done\n"
          ]
        }
      ]
    },
    {
      "cell_type": "markdown",
      "metadata": {
        "id": "Wl1ae0pqcClK"
      },
      "source": [
        "### Apply the transformation function/pipeline to the image dataset\n",
        "\n",
        "Now that we see the function is working correctly, we define a pipeline of transforms and augementations to apply to the image dataset.\n",
        "\n",
        "We resize all input images to a uniform size, we apply a number of transformations/augmentations in order (sometimes choosing randomly between a number of different option) and then output a modified image dataset."
      ]
    },
    {
      "cell_type": "code",
      "metadata": {
        "id": "4z15lju3zNYC",
        "colab": {
          "base_uri": "https://localhost:8080/",
          "height": 1000
        },
        "outputId": "4f1d4344-0d5c-4310-bd5b-a3b492fb1e1a"
      },
      "source": [
        "#define transformations and apply to entire dataset\n",
        "\n",
        "#individual image transformations to be applied\n",
        "pix_size_during = 64\n",
        "TRANS = A.ShiftScaleRotate(shift_limit=0.1, scale_limit=0, rotate_limit=0,p=0.5)\n",
        "R = A.Rotate (limit=40, interpolation=1, always_apply=False, p=0.5)\n",
        "ZOOM = A.ShiftScaleRotate(shift_limit=0, scale_limit=0.15, rotate_limit=0,p=0.5)\n",
        "BLUR = A.GaussianBlur(blur_limit=(1, 3), sigma_limit=0, always_apply=False, p=0.4)\n",
        "SHARP_1 = A.Sharpen(alpha=(0.9, 1.0), lightness=(0.5, 1.0), always_apply=False, p=0.5) #alpha is sharpness value, lightness is opacity \n",
        "NOISE = A.GaussNoise(var_limit=(10.0, 40.0), mean=0, per_channel=False, always_apply=False, p=0.4)\n",
        "CROP = A.RandomSizedCrop ([46,46], pix_size_during, pix_size_during, w2h_ratio=1.0, interpolation=1, always_apply=False, p=0.4)\n",
        "COARSE_DROP = A.CoarseDropout(max_holes=1, max_height=20, max_width=20, min_holes=1, min_height=5, min_width=15,fill_value=120,always_apply=False, p=0.4)\n",
        "RESIZE_1 = A.Resize(pix_size_during, pix_size_during, interpolation=cv2.INTER_AREA, always_apply=True, p=1)\n",
        "RESIZE_2 = A.Resize(32, 32, interpolation=cv2.INTER_AREA, always_apply=True, p=1)\n",
        "\n",
        "# define transformation pipeline\n",
        "transform = A.Compose([\n",
        "    RESIZE_1,\n",
        "    np.random.choice([ZOOM,TRANS]),\n",
        "    R, \n",
        "    np.random.choice([BLUR,NOISE]),\n",
        "    RESIZE_2   \n",
        "])\n",
        "\n",
        "# obtain transformed image dataset\n",
        "trans_ds = make_dataset(train_dir,transform,512)\n",
        "\n",
        "#check the outputted dataset to make sure transformations have been applied correctly and that the correct label is assocated with each image\n",
        "for images,labels in trans_ds.unbatch().take(50):\n",
        "  print('label ',labels)\n",
        "  # print(images)\n",
        "  # img = mpimg.imread(images)\n",
        "  #new_image = images[:,:].map(contrast)\n",
        "  plt.rcParams[\"figure.figsize\"] = (2,2)\n",
        "  plt.imshow(images[:,:],cmap='gray', vmin=0, vmax=255)\n",
        "  plt.show()\n"
      ],
      "execution_count": null,
      "outputs": [
        {
          "output_type": "stream",
          "name": "stdout",
          "text": [
            "got filenames and labels from dir\n",
            "file names parsed\n",
            "made image and label ds\n",
            "merged image and label ds\n",
            "done\n",
            "label  tf.Tensor([0 1 0 0 0 0 0 0 0 0], shape=(10,), dtype=int32)\n"
          ]
        },
        {
          "output_type": "display_data",
          "data": {
            "image/png": "[encoded data removed]",
            "text/plain": [
              "<Figure size 144x144 with 1 Axes>"
            ]
          },
          "metadata": {
            "needs_background": "light"
          }
        },
        {
          "output_type": "stream",
          "name": "stdout",
          "text": [
            "label  tf.Tensor([0 0 0 0 0 0 1 0 0 0], shape=(10,), dtype=int32)\n"
          ]
        },
        {
          "output_type": "display_data",
          "data": {
            "image/png": "[encoded data removed]",
            "text/plain": [
              "<Figure size 144x144 with 1 Axes>"
            ]
          },
          "metadata": {
            "needs_background": "light"
          }
        },
        {
          "output_type": "stream",
          "name": "stdout",
          "text": [
            "label  tf.Tensor([0 0 0 1 0 0 0 0 0 0], shape=(10,), dtype=int32)\n"
          ]
        },
        {
          "output_type": "display_data",
          "data": {
            "image/png": "[encoded data removed]",
            "text/plain": [
              "<Figure size 144x144 with 1 Axes>"
            ]
          },
          "metadata": {
            "needs_background": "light"
          }
        },
        {
          "output_type": "stream",
          "name": "stdout",
          "text": [
            "label  tf.Tensor([0 0 0 0 0 0 1 0 0 0], shape=(10,), dtype=int32)\n"
          ]
        },
        {
          "output_type": "display_data",
          "data": {
            "image/png": "[encoded data removed]",
            "text/plain": [
              "<Figure size 144x144 with 1 Axes>"
            ]
          },
          "metadata": {
            "needs_background": "light"
          }
        },
        {
          "output_type": "stream",
          "name": "stdout",
          "text": [
            "label  tf.Tensor([0 0 0 0 0 0 0 0 0 1], shape=(10,), dtype=int32)\n"
          ]
        },
        {
          "output_type": "display_data",
          "data": {
            "image/png": "[encoded data removed]",
            "text/plain": [
              "<Figure size 144x144 with 1 Axes>"
            ]
          },
          "metadata": {
            "needs_background": "light"
          }
        },
        {
          "output_type": "stream",
          "name": "stdout",
          "text": [
            "label  tf.Tensor([0 0 0 0 0 1 0 0 0 0], shape=(10,), dtype=int32)\n"
          ]
        },
        {
          "output_type": "display_data",
          "data": {
            "image/png": "[encoded data removed]",
            "text/plain": [
              "<Figure size 144x144 with 1 Axes>"
            ]
          },
          "metadata": {
            "needs_background": "light"
          }
        },
        {
          "output_type": "stream",
          "name": "stdout",
          "text": [
            "label  tf.Tensor([0 1 0 0 0 0 0 0 0 0], shape=(10,), dtype=int32)\n"
          ]
        },
        {
          "output_type": "display_data",
          "data": {
            "image/png": "[encoded data removed]",
            "text/plain": [
              "<Figure size 144x144 with 1 Axes>"
            ]
          },
          "metadata": {
            "needs_background": "light"
          }
        },
        {
          "output_type": "stream",
          "name": "stdout",
          "text": [
            "label  tf.Tensor([0 0 1 0 0 0 0 0 0 0], shape=(10,), dtype=int32)\n"
          ]
        },
        {
          "output_type": "display_data",
          "data": {
            "image/png": "[encoded data removed]",
            "text/plain": [
              "<Figure size 144x144 with 1 Axes>"
            ]
          },
          "metadata": {
            "needs_background": "light"
          }
        },
        {
          "output_type": "stream",
          "name": "stdout",
          "text": [
            "label  tf.Tensor([0 0 0 0 0 1 0 0 0 0], shape=(10,), dtype=int32)\n"
          ]
        },
        {
          "output_type": "display_data",
          "data": {
            "image/png": "[encoded data removed]",
            "text/plain": [
              "<Figure size 144x144 with 1 Axes>"
            ]
          },
          "metadata": {
            "needs_background": "light"
          }
        },
        {
          "output_type": "stream",
          "name": "stdout",
          "text": [
            "label  tf.Tensor([0 0 0 0 0 1 0 0 0 0], shape=(10,), dtype=int32)\n"
          ]
        },
        {
          "output_type": "display_data",
          "data": {
            "image/png": "[encoded data removed]",
            "text/plain": [
              "<Figure size 144x144 with 1 Axes>"
            ]
          },
          "metadata": {
            "needs_background": "light"
          }
        },
        {
          "output_type": "stream",
          "name": "stdout",
          "text": [
            "label  tf.Tensor([0 0 0 0 0 0 1 0 0 0], shape=(10,), dtype=int32)\n"
          ]
        },
        {
          "output_type": "display_data",
          "data": {
            "image/png": "[encoded data removed]",
            "text/plain": [
              "<Figure size 144x144 with 1 Axes>"
            ]
          },
          "metadata": {
            "needs_background": "light"
          }
        },
        {
          "output_type": "stream",
          "name": "stdout",
          "text": [
            "label  tf.Tensor([0 1 0 0 0 0 0 0 0 0], shape=(10,), dtype=int32)\n"
          ]
        },
        {
          "output_type": "display_data",
          "data": {
            "image/png": "[encoded data removed]",
            "text/plain": [
              "<Figure size 144x144 with 1 Axes>"
            ]
          },
          "metadata": {
            "needs_background": "light"
          }
        },
        {
          "output_type": "stream",
          "name": "stdout",
          "text": [
            "label  tf.Tensor([0 0 1 0 0 0 0 0 0 0], shape=(10,), dtype=int32)\n"
          ]
        },
        {
          "output_type": "display_data",
          "data": {
            "image/png": "[encoded data removed]",
            "text/plain": [
              "<Figure size 144x144 with 1 Axes>"
            ]
          },
          "metadata": {
            "needs_background": "light"
          }
        },
        {
          "output_type": "stream",
          "name": "stdout",
          "text": [
            "label  tf.Tensor([0 0 0 0 0 0 1 0 0 0], shape=(10,), dtype=int32)\n"
          ]
        },
        {
          "output_type": "display_data",
          "data": {
            "image/png": "[encoded data removed]",
            "text/plain": [
              "<Figure size 144x144 with 1 Axes>"
            ]
          },
          "metadata": {
            "needs_background": "light"
          }
        },
        {
          "output_type": "stream",
          "name": "stdout",
          "text": [
            "label  tf.Tensor([0 0 0 0 0 0 1 0 0 0], shape=(10,), dtype=int32)\n"
          ]
        },
        {
          "output_type": "display_data",
          "data": {
            "image/png": "[encoded data removed]",
            "text/plain": [
              "<Figure size 144x144 with 1 Axes>"
            ]
          },
          "metadata": {
            "needs_background": "light"
          }
        },
        {
          "output_type": "stream",
          "name": "stdout",
          "text": [
            "label  tf.Tensor([0 0 0 0 0 1 0 0 0 0], shape=(10,), dtype=int32)\n"
          ]
        },
        {
          "output_type": "display_data",
          "data": {
            "image/png": "[encoded data removed]",
            "text/plain": [
              "<Figure size 144x144 with 1 Axes>"
            ]
          },
          "metadata": {
            "needs_background": "light"
          }
        },
        {
          "output_type": "stream",
          "name": "stdout",
          "text": [
            "label  tf.Tensor([0 0 1 0 0 0 0 0 0 0], shape=(10,), dtype=int32)\n"
          ]
        },
        {
          "output_type": "display_data",
          "data": {
            "image/png": "[encoded data removed]",
            "text/plain": [
              "<Figure size 144x144 with 1 Axes>"
            ]
          },
          "metadata": {
            "needs_background": "light"
          }
        },
        {
          "output_type": "stream",
          "name": "stdout",
          "text": [
            "label  tf.Tensor([0 0 0 0 0 0 0 1 0 0], shape=(10,), dtype=int32)\n"
          ]
        },
        {
          "output_type": "display_data",
          "data": {
            "image/png": "[encoded data removed]",
            "text/plain": [
              "<Figure size 144x144 with 1 Axes>"
            ]
          },
          "metadata": {
            "needs_background": "light"
          }
        },
        {
          "output_type": "stream",
          "name": "stdout",
          "text": [
            "label  tf.Tensor([0 0 0 1 0 0 0 0 0 0], shape=(10,), dtype=int32)\n"
          ]
        },
        {
          "output_type": "display_data",
          "data": {
            "image/png": "[encoded data removed]",
            "text/plain": [
              "<Figure size 144x144 with 1 Axes>"
            ]
          },
          "metadata": {
            "needs_background": "light"
          }
        },
        {
          "output_type": "stream",
          "name": "stdout",
          "text": [
            "label  tf.Tensor([0 0 0 1 0 0 0 0 0 0], shape=(10,), dtype=int32)\n"
          ]
        },
        {
          "output_type": "display_data",
          "data": {
            "image/png": "[encoded data removed]",
            "text/plain": [
              "<Figure size 144x144 with 1 Axes>"
            ]
          },
          "metadata": {
            "needs_background": "light"
          }
        },
        {
          "output_type": "stream",
          "name": "stdout",
          "text": [
            "label  tf.Tensor([0 0 1 0 0 0 0 0 0 0], shape=(10,), dtype=int32)\n"
          ]
        },
        {
          "output_type": "display_data",
          "data": {
            "image/png": "[encoded data removed]",
            "text/plain": [
              "<Figure size 144x144 with 1 Axes>"
            ]
          },
          "metadata": {
            "needs_background": "light"
          }
        },
        {
          "output_type": "stream",
          "name": "stdout",
          "text": [
            "label  tf.Tensor([0 0 0 0 0 0 0 0 0 1], shape=(10,), dtype=int32)\n"
          ]
        },
        {
          "output_type": "display_data",
          "data": {
            "image/png": "[encoded data removed]",
            "text/plain": [
              "<Figure size 144x144 with 1 Axes>"
            ]
          },
          "metadata": {
            "needs_background": "light"
          }
        },
        {
          "output_type": "stream",
          "name": "stdout",
          "text": [
            "label  tf.Tensor([0 0 0 0 0 0 0 1 0 0], shape=(10,), dtype=int32)\n"
          ]
        },
        {
          "output_type": "display_data",
          "data": {
            "image/png": "[encoded data removed]",
            "text/plain": [
              "<Figure size 144x144 with 1 Axes>"
            ]
          },
          "metadata": {
            "needs_background": "light"
          }
        },
        {
          "output_type": "stream",
          "name": "stdout",
          "text": [
            "label  tf.Tensor([0 0 0 0 0 0 0 1 0 0], shape=(10,), dtype=int32)\n"
          ]
        },
        {
          "output_type": "display_data",
          "data": {
            "image/png": "[encoded data removed]",
            "text/plain": [
              "<Figure size 144x144 with 1 Axes>"
            ]
          },
          "metadata": {
            "needs_background": "light"
          }
        },
        {
          "output_type": "stream",
          "name": "stdout",
          "text": [
            "label  tf.Tensor([0 0 0 0 0 0 0 0 1 0], shape=(10,), dtype=int32)\n"
          ]
        },
        {
          "output_type": "display_data",
          "data": {
            "image/png": "[encoded data removed]",
            "text/plain": [
              "<Figure size 144x144 with 1 Axes>"
            ]
          },
          "metadata": {
            "needs_background": "light"
          }
        },
        {
          "output_type": "stream",
          "name": "stdout",
          "text": [
            "label  tf.Tensor([0 0 1 0 0 0 0 0 0 0], shape=(10,), dtype=int32)\n"
          ]
        },
        {
          "output_type": "display_data",
          "data": {
            "image/png": "[encoded data removed]",
            "text/plain": [
              "<Figure size 144x144 with 1 Axes>"
            ]
          },
          "metadata": {
            "needs_background": "light"
          }
        },
        {
          "output_type": "stream",
          "name": "stdout",
          "text": [
            "label  tf.Tensor([0 0 0 0 0 0 0 1 0 0], shape=(10,), dtype=int32)\n"
          ]
        },
        {
          "output_type": "display_data",
          "data": {
            "image/png": "[encoded data removed]",
            "text/plain": [
              "<Figure size 144x144 with 1 Axes>"
            ]
          },
          "metadata": {
            "needs_background": "light"
          }
        },
        {
          "output_type": "stream",
          "name": "stdout",
          "text": [
            "label  tf.Tensor([0 0 0 0 0 0 0 0 1 0], shape=(10,), dtype=int32)\n"
          ]
        },
        {
          "output_type": "display_data",
          "data": {
            "image/png": "[encoded data removed]",
            "text/plain": [
              "<Figure size 144x144 with 1 Axes>"
            ]
          },
          "metadata": {
            "needs_background": "light"
          }
        },
        {
          "output_type": "stream",
          "name": "stdout",
          "text": [
            "label  tf.Tensor([0 1 0 0 0 0 0 0 0 0], shape=(10,), dtype=int32)\n"
          ]
        },
        {
          "output_type": "display_data",
          "data": {
            "image/png": "[encoded data removed]",
            "text/plain": [
              "<Figure size 144x144 with 1 Axes>"
            ]
          },
          "metadata": {
            "needs_background": "light"
          }
        },
        {
          "output_type": "stream",
          "name": "stdout",
          "text": [
            "label  tf.Tensor([0 0 0 0 0 0 0 0 0 1], shape=(10,), dtype=int32)\n"
          ]
        },
        {
          "output_type": "display_data",
          "data": {
            "image/png": "[encoded data removed]",
            "text/plain": [
              "<Figure size 144x144 with 1 Axes>"
            ]
          },
          "metadata": {
            "needs_background": "light"
          }
        },
        {
          "output_type": "stream",
          "name": "stdout",
          "text": [
            "label  tf.Tensor([0 0 0 0 0 0 0 1 0 0], shape=(10,), dtype=int32)\n"
          ]
        },
        {
          "output_type": "display_data",
          "data": {
            "image/png": "[encoded data removed]",
            "text/plain": [
              "<Figure size 144x144 with 1 Axes>"
            ]
          },
          "metadata": {
            "needs_background": "light"
          }
        },
        {
          "output_type": "stream",
          "name": "stdout",
          "text": [
            "label  tf.Tensor([0 0 0 1 0 0 0 0 0 0], shape=(10,), dtype=int32)\n"
          ]
        },
        {
          "output_type": "display_data",
          "data": {
            "image/png": "[encoded data removed]",
            "text/plain": [
              "<Figure size 144x144 with 1 Axes>"
            ]
          },
          "metadata": {
            "needs_background": "light"
          }
        },
        {
          "output_type": "stream",
          "name": "stdout",
          "text": [
            "label  tf.Tensor([0 0 0 0 0 1 0 0 0 0], shape=(10,), dtype=int32)\n"
          ]
        },
        {
          "output_type": "display_data",
          "data": {
            "image/png": "[encoded data removed]",
            "text/plain": [
              "<Figure size 144x144 with 1 Axes>"
            ]
          },
          "metadata": {
            "needs_background": "light"
          }
        },
        {
          "output_type": "stream",
          "name": "stdout",
          "text": [
            "label  tf.Tensor([0 0 0 0 0 0 0 0 1 0], shape=(10,), dtype=int32)\n"
          ]
        },
        {
          "output_type": "display_data",
          "data": {
            "image/png": "[encoded data removed]",
            "text/plain": [
              "<Figure size 144x144 with 1 Axes>"
            ]
          },
          "metadata": {
            "needs_background": "light"
          }
        },
        {
          "output_type": "stream",
          "name": "stdout",
          "text": [
            "label  tf.Tensor([0 0 0 0 0 0 1 0 0 0], shape=(10,), dtype=int32)\n"
          ]
        },
        {
          "output_type": "display_data",
          "data": {
            "image/png": "[encoded data removed]",
            "text/plain": [
              "<Figure size 144x144 with 1 Axes>"
            ]
          },
          "metadata": {
            "needs_background": "light"
          }
        },
        {
          "output_type": "stream",
          "name": "stdout",
          "text": [
            "label  tf.Tensor([1 0 0 0 0 0 0 0 0 0], shape=(10,), dtype=int32)\n"
          ]
        },
        {
          "output_type": "display_data",
          "data": {
            "image/png": "[encoded data removed]",
            "text/plain": [
              "<Figure size 144x144 with 1 Axes>"
            ]
          },
          "metadata": {
            "needs_background": "light"
          }
        },
        {
          "output_type": "stream",
          "name": "stdout",
          "text": [
            "label  tf.Tensor([0 0 0 0 0 0 0 1 0 0], shape=(10,), dtype=int32)\n"
          ]
        },
        {
          "output_type": "display_data",
          "data": {
            "image/png": "[encoded data removed]",
            "text/plain": [
              "<Figure size 144x144 with 1 Axes>"
            ]
          },
          "metadata": {
            "needs_background": "light"
          }
        },
        {
          "output_type": "stream",
          "name": "stdout",
          "text": [
            "label  tf.Tensor([0 0 0 0 1 0 0 0 0 0], shape=(10,), dtype=int32)\n"
          ]
        },
        {
          "output_type": "display_data",
          "data": {
            "image/png": "[encoded data removed]",
            "text/plain": [
              "<Figure size 144x144 with 1 Axes>"
            ]
          },
          "metadata": {
            "needs_background": "light"
          }
        },
        {
          "output_type": "stream",
          "name": "stdout",
          "text": [
            "label  tf.Tensor([0 0 0 0 0 0 0 0 0 1], shape=(10,), dtype=int32)\n"
          ]
        },
        {
          "output_type": "display_data",
          "data": {
            "image/png": "[encoded data removed]",
            "text/plain": [
              "<Figure size 144x144 with 1 Axes>"
            ]
          },
          "metadata": {
            "needs_background": "light"
          }
        },
        {
          "output_type": "stream",
          "name": "stdout",
          "text": [
            "label  tf.Tensor([0 0 0 0 0 0 0 0 0 1], shape=(10,), dtype=int32)\n"
          ]
        },
        {
          "output_type": "display_data",
          "data": {
            "image/png": "[encoded data removed]",
            "text/plain": [
              "<Figure size 144x144 with 1 Axes>"
            ]
          },
          "metadata": {
            "needs_background": "light"
          }
        },
        {
          "output_type": "stream",
          "name": "stdout",
          "text": [
            "label  tf.Tensor([0 0 0 0 0 0 0 0 0 1], shape=(10,), dtype=int32)\n"
          ]
        },
        {
          "output_type": "display_data",
          "data": {
            "image/png": "[encoded data removed]",
            "text/plain": [
              "<Figure size 144x144 with 1 Axes>"
            ]
          },
          "metadata": {
            "needs_background": "light"
          }
        },
        {
          "output_type": "stream",
          "name": "stdout",
          "text": [
            "label  tf.Tensor([0 0 0 1 0 0 0 0 0 0], shape=(10,), dtype=int32)\n"
          ]
        },
        {
          "output_type": "display_data",
          "data": {
            "image/png": "[encoded data removed]",
            "text/plain": [
              "<Figure size 144x144 with 1 Axes>"
            ]
          },
          "metadata": {
            "needs_background": "light"
          }
        },
        {
          "output_type": "stream",
          "name": "stdout",
          "text": [
            "label  tf.Tensor([0 0 0 0 0 0 0 0 1 0], shape=(10,), dtype=int32)\n"
          ]
        },
        {
          "output_type": "display_data",
          "data": {
            "image/png": "[encoded data removed]",
            "text/plain": [
              "<Figure size 144x144 with 1 Axes>"
            ]
          },
          "metadata": {
            "needs_background": "light"
          }
        },
        {
          "output_type": "stream",
          "name": "stdout",
          "text": [
            "label  tf.Tensor([0 0 0 1 0 0 0 0 0 0], shape=(10,), dtype=int32)\n"
          ]
        },
        {
          "output_type": "display_data",
          "data": {
            "image/png": "[encoded data removed]",
            "text/plain": [
              "<Figure size 144x144 with 1 Axes>"
            ]
          },
          "metadata": {
            "needs_background": "light"
          }
        },
        {
          "output_type": "stream",
          "name": "stdout",
          "text": [
            "label  tf.Tensor([0 0 0 0 1 0 0 0 0 0], shape=(10,), dtype=int32)\n"
          ]
        },
        {
          "output_type": "display_data",
          "data": {
            "image/png": "[encoded data removed]",
            "text/plain": [
              "<Figure size 144x144 with 1 Axes>"
            ]
          },
          "metadata": {
            "needs_background": "light"
          }
        },
        {
          "output_type": "stream",
          "name": "stdout",
          "text": [
            "label  tf.Tensor([0 0 0 0 0 0 1 0 0 0], shape=(10,), dtype=int32)\n"
          ]
        },
        {
          "output_type": "display_data",
          "data": {
            "image/png": "[encoded data removed]",
            "text/plain": [
              "<Figure size 144x144 with 1 Axes>"
            ]
          },
          "metadata": {
            "needs_background": "light"
          }
        },
        {
          "output_type": "stream",
          "name": "stdout",
          "text": [
            "label  tf.Tensor([0 0 0 0 0 0 1 0 0 0], shape=(10,), dtype=int32)\n"
          ]
        },
        {
          "output_type": "display_data",
          "data": {
            "image/png": "[encoded data removed]",
            "text/plain": [
              "<Figure size 144x144 with 1 Axes>"
            ]
          },
          "metadata": {
            "needs_background": "light"
          }
        },
        {
          "output_type": "stream",
          "name": "stdout",
          "text": [
            "label  tf.Tensor([0 0 1 0 0 0 0 0 0 0], shape=(10,), dtype=int32)\n"
          ]
        },
        {
          "output_type": "display_data",
          "data": {
            "image/png": "[encoded data removed]",
            "text/plain": [
              "<Figure size 144x144 with 1 Axes>"
            ]
          },
          "metadata": {
            "needs_background": "light"
          }
        },
        {
          "output_type": "stream",
          "name": "stdout",
          "text": [
            "label  tf.Tensor([0 0 0 0 0 0 0 0 1 0], shape=(10,), dtype=int32)\n"
          ]
        },
        {
          "output_type": "display_data",
          "data": {
            "image/png": "[encoded data removed]",
            "text/plain": [
              "<Figure size 144x144 with 1 Axes>"
            ]
          },
          "metadata": {
            "needs_background": "light"
          }
        },
        {
          "output_type": "stream",
          "name": "stdout",
          "text": [
            "label  tf.Tensor([0 1 0 0 0 0 0 0 0 0], shape=(10,), dtype=int32)\n"
          ]
        },
        {
          "output_type": "display_data",
          "data": {
            "image/png": "[encoded data removed]",
            "text/plain": [
              "<Figure size 144x144 with 1 Axes>"
            ]
          },
          "metadata": {
            "needs_background": "light"
          }
        }
      ]
    },
    {
      "cell_type": "markdown",
      "metadata": {
        "id": "iS3DZ7jvc-DR"
      },
      "source": [
        "We can see that the above function can apply transformations and augmentations to an image dataset of maybe 20,000 images in a few seconds. If we had not optimised this process, this could have taken 30 or 40 minutes so we can see we have achieved a considerable improvement in time and efficiency to pass the images through our pipeline, transform them, and then pass them out to be used as needed.\n",
        "\n",
        "### Saving the modified images:\n",
        "\n",
        "Now that we have used parallel processing to efficiently apply image transformations to an entire dataset, we can save our modified dataset."
      ]
    },
    {
      "cell_type": "code",
      "metadata": {
        "id": "bMeccd7Zu5TW"
      },
      "source": [
        "#save modified images\n",
        "to_save_dir = os.path.join(image_dir,'temp_processed_images') #create new folder\n",
        "if 'temp_processed_images' in os.listdir(image_dir):\n",
        "  shutil.rmtree(to_save_dir) #delete folder is already exists\n",
        "\n",
        "os.mkdir(to_save_dir) #create new folder\n",
        "numerals = [\"i\", \"ii\", \"iii\", \"iv\", \"v\", \"vi\", \"vii\", \"viii\", \"ix\", \"x\"] #image classes/labels\n",
        "for num in numerals: #loop through image classes and make new folders\n",
        "  temp_path = os.path.join(to_save_dir,num)\n",
        "  os.mkdir(temp_path)\n",
        "\n",
        "x=0\n",
        "for images,labels in trans_ds.take(50).unbatch(): #unbatch and unpack the modified images\n",
        "  #get image label/class\n",
        "  np_label = labels.numpy()\n",
        "  label_index = np.where(np_label== 1)[0] # find the index in the array with a '1'\n",
        "  numeral_label = numerals[int(label_index)] #index corresponds to which numeral this image is showing\n",
        "\n",
        "  #encode image\n",
        "  temp_image = images.numpy()\n",
        "  # encoded_img = tf.io.encode_png(\n",
        "  #   temp_image, compression=-1)\n",
        "  \n",
        "  #save image\n",
        "  path_to_save = os.path.join(to_save_dir,numeral_label,str(x))+'.png' #create path and filename\n",
        "  cv2.imwrite(path_to_save,temp_image) #save the image to the relevant folder\n",
        "\n",
        "  if x % 100 == 0: #progress bar\n",
        "    print(x,' images saved')\n",
        "  else:\n",
        "    pass\n",
        "\n",
        "  if x >= 30000: #stop if images are more than this amount, due to continual prefetching of images this loop will run forever unless terminated\n",
        "    break\n",
        "  x+=1\n",
        "\n",
        "print('images saved')"
      ],
      "execution_count": null,
      "outputs": []
    },
    {
      "cell_type": "markdown",
      "metadata": {
        "id": "Z-SlnfobfL4r"
      },
      "source": [
        "Now we have applied the augmentations to our image dataset and we have saved the images ready to submit for the competition entry. "
      ]
    },
    {
      "cell_type": "code",
      "metadata": {
        "id": "FWB5zNANfTXC"
      },
      "source": [
        ""
      ],
      "execution_count": null,
      "outputs": []
    }
  ]
}