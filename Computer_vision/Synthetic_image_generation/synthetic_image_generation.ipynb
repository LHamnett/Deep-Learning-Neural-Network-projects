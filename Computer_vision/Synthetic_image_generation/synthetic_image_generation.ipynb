{
 "cells": [
  {
   "cell_type": "markdown",
   "metadata": {},
   "source": [
    "##  Synthetic data generation for image data-set competition\n",
    "\n",
    "### Author/ML Engineer: Leon Hamnett - [linkedIn](https://www.linkedin.com/in/leon-hamnett/)\n",
    "\n",
    "\n",
    "### Introduction:\n",
    "\n",
    "As part of a team of machine learning engineers, I took part in a [datadriven contest](https://https-deeplearning-ai.github.io/data-centric-comp/) organised by Andrew Ng (a well known machine learning teacher and researcher). The aim of this competition was to focus on methods to improve dataset quality as opposed to improving the machine learning model itself. \n",
    "\n",
    "During this contest we created a number of different image datasets using such methods as cleaning and relabelling the existing dataset, creating synthetic data and applying a number of different image transforms and augmentations on the images. \n",
    "\n",
    "This notebook was used to generate synthetic images similar to the existing images we had within our dataset. It was hoped by adding images in different styles, the model that was trained would be better able to classify the images for each of the ten image classes.\n",
    "\n",
    "### Setting up the folders:"
   ]
  },
  {
   "cell_type": "code",
   "execution_count": 1,
   "metadata": {},
   "outputs": [],
   "source": [
    "import os\n",
    "from os import getcwd\n",
    "import shutil\n",
    "import numpy as np"
   ]
  },
  {
   "cell_type": "code",
   "execution_count": 2,
   "metadata": {},
   "outputs": [
    {
     "name": "stdout",
     "output_type": "stream",
     "text": [
      "/home/leon/Documents/datscience practise/datascentric_comp/image_gen\n"
     ]
    }
   ],
   "source": [
    "work_dir = getcwd()\n",
    "print(work_dir)"
   ]
  },
  {
   "cell_type": "code",
   "execution_count": 3,
   "metadata": {},
   "outputs": [
    {
     "name": "stdout",
     "output_type": "stream",
     "text": [
      "folders deleted\n"
     ]
    }
   ],
   "source": [
    "numerals_lower = ['i' , 'ii' ,'iii' , 'iv', 'v', 'vi', 'vii', 'viii', 'ix', 'x']\n",
    "numerals_upper = ['I', 'II', 'III', 'IV' , 'V' ,'VI' ,'VII','VIII', 'IX' , 'X']\n",
    "#delete all files if folder already exists, then make new folders\n",
    "for x in numerals_lower:\n",
    "    temp_path = os.path.join(work_dir,x)\n",
    "    shutil.rmtree(temp_path)\n",
    "    os.mkdir(temp_path)\n",
    "    \n",
    "print('folders deleted')"
   ]
  },
  {
   "cell_type": "code",
   "execution_count": 4,
   "metadata": {},
   "outputs": [],
   "source": [
    "font_dir = '/usr/share/fonts/TTF/'\n",
    "hand_dir = '/home/leon/Documents/datscience practise/datascentric_comp/fonts_handwritten/'\n",
    "new_file_paths = []\n",
    "files = os.listdir('/home/leon/Documents/datscience practise/datascentric_comp/image_gen/ii/')\n",
    "files_ordered = sorted(files)"
   ]
  },
  {
   "cell_type": "markdown",
   "metadata": {},
   "source": [
    "### Generating synthetic images:\n",
    "\n",
    "To generate the synthetic images we use the imagemagick CLI to generate the roman numerals. We use a number of different fonts so that we can generate a varied and robust image dataset. "
   ]
  },
  {
   "cell_type": "code",
   "execution_count": 5,
   "metadata": {},
   "outputs": [
    {
     "data": {
      "text/plain": [
       "740"
      ]
     },
     "execution_count": 5,
     "metadata": {},
     "output_type": "execute_result"
    }
   ],
   "source": [
    "#set the filepaths for all of the fonts we wish to use\n",
    "fonts = ['C059-Italic',\n",
    "         '/usr/share/fonts/TTF/Baline_Script.ttf',\n",
    "         '/usr/share/fonts/TTF/Calligraffitti-Regular.ttf',\n",
    "         '/usr/share/fonts/TTF/chancur.ttf', \n",
    "         '/usr/share/fonts/TTF/Dynalight-Regular.ttf',\n",
    "         '/usr/share/fonts/TTF/MarckScript-Regular.tff', \n",
    "        '/usr/share/fonts/TTF/marinto.ttf',\n",
    "        '/usr/share/fonts/TTF/Pacifico.ttf',\n",
    "        '/usr/share/fonts/TTF/Rochester-Regular.ttf',\n",
    "        '/usr/share/fonts/TTF/Tangerine-Regular.ttf',\n",
    "        '/usr/share/fonts/TTF/This_July.ttf',\n",
    "        '/usr/share/fonts/TTF/Vervelle-Script.ttf',\n",
    "        '/usr/share/fonts/TTF/Yellowtail-Regular.ttf',\n",
    "         #annes fonts\n",
    "         '/usr/share/fonts/TTF/richard_hamilton_italic.ttf', \n",
    "         '/usr/share/fonts/TTF/winkle_regular.ttf', \n",
    "         '/usr/share/fonts/TTF/Moon_Flower.ttf', \n",
    "         '/usr/share/fonts/TTF/christian_heedlay.ttf', \n",
    "         '/usr/share/fonts/TTF/popsicle.ttf', \n",
    "         #'/usr/share/fonts/TTF/lovtony_script.ttf', #added back in\n",
    "         '/usr/share/fonts/TTF/chocolate.ttf', \n",
    "         '/usr/share/fonts/TTF/KGMissKindergarten.ttf', \n",
    "         #'/usr/share/fonts/TTF/anyer_beach.ttf', #added back in\n",
    "         #'/usr/share/fonts/TTF/harmony.ttf', #added back in\n",
    "         '/usr/share/fonts/TTF/richard_hamilton.ttf', \n",
    "         '/usr/share/fonts/TTF/My_Unprofessional_Handwriting.ttf', \n",
    "         '/usr/share/fonts/TTF/christian_heedlay_italic.ttf', \n",
    "         '/usr/share/fonts/TTF/mr_right.ttf', \n",
    "         '/usr/share/fonts/TTF/Please_write_me_a_song.ttf',\n",
    "         #serif\n",
    "         '/usr/share/fonts/liberation/LiberationSerif-Italic.ttf',\n",
    "         '/usr/share/fonts/gsfonts/Z003-MediumItalic.otf',\n",
    "         '/usr/share/fonts/TTF/ROMANUS.otf',\n",
    "         '/usr/share/fonts/TTF/Roman_SD.ttf',\n",
    "         '/usr/share/fonts/TTF/Romanicum_Italic.ttf',\n",
    "         '/usr/share/fonts/TTF/Erie_Roman.ttf',\n",
    "         '/usr/share/fonts/TTF/spqri.ttf',\n",
    "         '/usr/share/fonts/TTF/spqr.ttf',\n",
    "         '/usr/share/fonts/TTF/ROSART__.ttf',\n",
    "         '/usr/share/fonts/TTF/EMPORO.TTF',\n",
    "         '/usr/share/fonts/TTF/achilles3superital.ttf',\n",
    "         '/usr/share/fonts/TTF/achilles3left.ttf'\n",
    "        ]\n",
    "fonts_lower = ['C059-Italic',\n",
    "         '/usr/share/fonts/TTF/Calligraffitti-Regular.ttf',\n",
    "         '/usr/share/fonts/TTF/MarckScript-Regular.tff', #not working\n",
    "        '/usr/share/fonts/TTF/marinto.ttf',\n",
    "        '/usr/share/fonts/TTF/Pacifico.ttf',\n",
    "        '/usr/share/fonts/TTF/Rochester-Regular.ttf',\n",
    "        '/usr/share/fonts/TTF/Tangerine-Regular.ttf',\n",
    "        '/usr/share/fonts/TTF/This_July.ttf',\n",
    "        '/usr/share/fonts/TTF/Vervelle-Script.ttf',\n",
    "        '/usr/share/fonts/TTF/Yellowtail-Regular.ttf',\n",
    "         #annes fonts\n",
    "         '/usr/share/fonts/TTF/richard_hamilton_italic.ttf', \n",
    "         '/usr/share/fonts/TTF/winkle_regular.ttf', \n",
    "         '/usr/share/fonts/TTF/Moon_Flower.ttf', \n",
    "         '/usr/share/fonts/TTF/christian_heedlay.ttf', \n",
    "         '/usr/share/fonts/TTF/popsicle.ttf', \n",
    "         '/usr/share/fonts/TTF/lovtony_script.ttf', \n",
    "         '/usr/share/fonts/TTF/chocolate.ttf', \n",
    "         '/usr/share/fonts/TTF/KGMissKindergarten.ttf', \n",
    "         '/usr/share/fonts/TTF/anyer_beach.ttf', \n",
    "         '/usr/share/fonts/TTF/harmony.ttf', \n",
    "         '/usr/share/fonts/TTF/richard_hamilton.ttf', \n",
    "         '/usr/share/fonts/TTF/My_Unprofessional_Handwriting.ttf', \n",
    "         '/usr/share/fonts/TTF/christian_heedlay_italic.ttf', \n",
    "         '/usr/share/fonts/TTF/mr_right.ttf', \n",
    "         '/usr/share/fonts/TTF/Please_write_me_a_song.ttf']\n",
    "               \n",
    "fonts_upper = ['/usr/share/fonts/TTF/C059-Italic',\n",
    "'/usr/share/fonts/TTF/Calligraffitti-Regular.ttf',\n",
    "'/usr/share/fonts/TTF/KGMissKindergarten.ttf',\n",
    "'/usr/share/fonts/TTF/Moon_Flower.ttf',\n",
    "'/usr/share/fonts/TTF/My_Unprofessional_Handwriting.ttf',\n",
    "'/usr/share/fonts/TTF/Pacifico.ttf',\n",
    "'/usr/share/fonts/TTF/Please_write_me_a_song.ttf',\n",
    "'/usr/share/fonts/TTF/Yellowtail-Regular.ttf',\n",
    "'/usr/share/fonts/TTF/anyer_beach.ttf',\n",
    "'/usr/share/fonts/TTF/chocolate.ttf',\n",
    "'/usr/share/fonts/TTF/christian_heedlay.ttf',\n",
    "'/usr/share/fonts/TTF/christian_heedlay_italic.ttf',\n",
    "'/usr/share/fonts/TTF/harmony.ttf',\n",
    "'/usr/share/fonts/TTF/lovtony_script.ttf',\n",
    "'/usr/share/fonts/TTF/marinto.ttf',\n",
    "'/usr/share/fonts/TTF/mr_right.ttf',\n",
    "'/usr/share/fonts/TTF/popsicle.ttf',\n",
    "'/usr/share/fonts/TTF/richard_hamilton.ttf',\n",
    "'/usr/share/fonts/TTF/richard_hamilton_italic.ttf',\n",
    "'/usr/share/fonts/TTF/winkle_regular.ttf']\n",
    "\n",
    "\n",
    "len(fonts) * ((len(numerals_upper)+len(numerals_lower)))"
   ]
  },
  {
   "cell_type": "markdown",
   "metadata": {},
   "source": [
    "### For separate lower/upper fonts:"
   ]
  },
  {
   "cell_type": "code",
   "execution_count": 6,
   "metadata": {},
   "outputs": [
    {
     "name": "stdout",
     "output_type": "stream",
     "text": [
      "numeral i finished\n",
      "numeral ii finished\n",
      "numeral iii finished\n",
      "numeral iv finished\n",
      "numeral v finished\n",
      "numeral vi finished\n",
      "numeral vii finished\n",
      "numeral viii finished\n",
      "numeral ix finished\n",
      "numeral x finished\n",
      "numeral I finished\n",
      "numeral II finished\n",
      "numeral III finished\n",
      "numeral IV finished\n",
      "numeral V finished\n",
      "numeral VI finished\n",
      "numeral VII finished\n",
      "numeral VIII finished\n",
      "numeral IX finished\n",
      "numeral X finished\n"
     ]
    }
   ],
   "source": [
    "#loop through numerals lower\n",
    "for numeral in numerals_lower: #loop through numerals\n",
    "    for elem in range(len(fonts_lower)): #loop through available fonts\n",
    "        for num in range(1,10): #create 10 images for each loop\n",
    "            temp_path = os.path.join(numeral,str(fonts_lower[elem].split('/')[-1] +'_lower'+str(num))) #create file path/image name\n",
    "            temp_filename = temp_path + '.png'\n",
    "            #create the string command to enter into the terminal shell\n",
    "            term_str = 'convert -background white  -fill black -font {} -pointsize 72  -size 200x200  -gravity Center caption:{} {}'.format('\"'+fonts_lower[elem]+'\"',\"'\"+numeral+\"'\",temp_filename) \n",
    "            os.system(term_str) #run command in terminal to create the image\n",
    "    print('numeral {} finished'.format(numeral))\n",
    "\n",
    "#loop through numerals upper\n",
    "for numeral in range(len(numerals_upper)):\n",
    "#     print('numeral :',numeral)\n",
    "    for elem in range(len(fonts_upper)):\n",
    "        for num in range(1,2):\n",
    "            temp_path = os.path.join(numerals_lower[numeral],str(fonts_upper[elem].split('/')[-1]+'_upper'+str(num)))\n",
    "            temp_filename = temp_path + '.png'\n",
    "            term_str = 'convert -background white  -fill black -font {} -pointsize 72  -size 200x200  -gravity Center caption:{} {}'.format('\"'+fonts_upper[elem]+'\"',\"'\"+numerals_upper[numeral]+\"'\",temp_filename)\n",
    "            os.system(term_str)\n",
    "    print('numeral {} finished'.format(numerals_upper[numeral]))\n",
    "     \n",
    "        "
   ]
  },
  {
   "cell_type": "markdown",
   "metadata": {},
   "source": [
    "### For all fonts both upper and lower:"
   ]
  },
  {
   "cell_type": "code",
   "execution_count": 7,
   "metadata": {},
   "outputs": [
    {
     "name": "stdout",
     "output_type": "stream",
     "text": [
      "numeral i finished\n",
      "numeral ii finished\n",
      "numeral iii finished\n",
      "numeral iv finished\n",
      "numeral v finished\n",
      "numeral vi finished\n",
      "numeral vii finished\n",
      "numeral viii finished\n",
      "numeral ix finished\n",
      "numeral x finished\n",
      "numeral I finished\n",
      "numeral II finished\n",
      "numeral III finished\n",
      "numeral IV finished\n",
      "numeral V finished\n",
      "numeral VI finished\n",
      "numeral VII finished\n",
      "numeral VIII finished\n",
      "numeral IX finished\n",
      "numeral X finished\n"
     ]
    }
   ],
   "source": [
    "#set gravity list to set text position within generated image\n",
    "gravity_list = ['NorthWest', 'North', 'NorthEast', 'West', 'Center', 'East', 'SouthWest', 'South', 'SouthEast']\n",
    "\n",
    "#loop through numerals lower\n",
    "for numeral in numerals_lower: #loop through numerals\n",
    "    for elem in range(len(fonts)): #loop through available fonts\n",
    "        for num in range(1,2): #change back to 10 #create 10 images for each loop\n",
    "            temp_path = os.path.join(numeral,str(fonts[elem].split('/')[-1] +'_lower'+str(num))) #create file path/image name\n",
    "            temp_filename = temp_path + '.png'\n",
    "            #create the command to enter into the terminal shell\n",
    "            s_font = '\"'+fonts[elem]+'\"'\n",
    "            s_gravity = 'Center' #np.random.choice(gravity_list)\n",
    "            s_num = \"'\"+numeral+\"'\"\n",
    "            term_str = 'convert -background white  -fill black -font {} -pointsize 28  -size 64x64  -gravity {} caption:{} {}'.format(s_font,s_gravity,s_num,temp_filename) \n",
    "            os.system(term_str) #run command in terminal to create the image\n",
    "    print('numeral {} finished'.format(numeral))\n",
    "\n",
    "#loop through numerals upper\n",
    "for numeral in range(len(numerals_upper)):\n",
    "#     print('numeral :',numeral)\n",
    "    for elem in range(len(fonts)):\n",
    "        for num in range(1,11):\n",
    "            temp_path = os.path.join(numerals_lower[numeral],str(fonts[elem].split('/')[-1]+'_upper'+str(num)))\n",
    "            temp_filename = temp_path + '.png'\n",
    "            #create strings\n",
    "            s_font = '\"'+fonts[elem]+'\"'\n",
    "            s_gravity = 'Center' #np.random.choice(gravity_list)\n",
    "            s_num = \"'\"+numerals_upper[numeral]+\"'\"\n",
    "            term_str = 'convert -background white  -fill black -font {} -pointsize 28  -size 64x64  -gravity {} caption:{} {}'.format(s_font,s_gravity,s_num,temp_filename)\n",
    "            os.system(term_str)\n",
    "    print('numeral {} finished'.format(numerals_upper[numeral]))"
   ]
  },
  {
   "cell_type": "code",
   "execution_count": 8,
   "metadata": {},
   "outputs": [
    {
     "name": "stdout",
     "output_type": "stream",
     "text": [
      "!convert -background white  -fill black -font \"C059-Italic\" -pointsize 16  -size 32x32  -gravity Center caption:'VII' testing.png\n",
      "!convert -background white  -fill black -font \"/usr/share/fonts/TTF/Baline_Script.ttf\" -pointsize 16  -size 32x32  -gravity Center caption:'VII' testing.png\n",
      "!convert -background white  -fill black -font \"/usr/share/fonts/TTF/Calligraffitti-Regular.ttf\" -pointsize 16  -size 32x32  -gravity Center caption:'VII' testing.png\n",
      "!convert -background white  -fill black -font \"/usr/share/fonts/TTF/chancur.ttf\" -pointsize 16  -size 32x32  -gravity Center caption:'VII' testing.png\n",
      "!convert -background white  -fill black -font \"/usr/share/fonts/TTF/Dynalight-Regular.ttf\" -pointsize 16  -size 32x32  -gravity Center caption:'VII' testing.png\n",
      "!convert -background white  -fill black -font \"/usr/share/fonts/TTF/MarckScript-Regular.tff\" -pointsize 16  -size 32x32  -gravity Center caption:'VII' testing.png\n",
      "!convert -background white  -fill black -font \"/usr/share/fonts/TTF/marinto.ttf\" -pointsize 16  -size 32x32  -gravity Center caption:'VII' testing.png\n",
      "!convert -background white  -fill black -font \"/usr/share/fonts/TTF/Pacifico.ttf\" -pointsize 16  -size 32x32  -gravity Center caption:'VII' testing.png\n",
      "!convert -background white  -fill black -font \"/usr/share/fonts/TTF/Rochester-Regular.ttf\" -pointsize 16  -size 32x32  -gravity Center caption:'VII' testing.png\n",
      "!convert -background white  -fill black -font \"/usr/share/fonts/TTF/Tangerine-Regular.ttf\" -pointsize 16  -size 32x32  -gravity Center caption:'VII' testing.png\n",
      "!convert -background white  -fill black -font \"/usr/share/fonts/TTF/This_July.ttf\" -pointsize 16  -size 32x32  -gravity Center caption:'VII' testing.png\n",
      "!convert -background white  -fill black -font \"/usr/share/fonts/TTF/Vervelle-Script.ttf\" -pointsize 16  -size 32x32  -gravity Center caption:'VII' testing.png\n",
      "!convert -background white  -fill black -font \"/usr/share/fonts/TTF/Yellowtail-Regular.ttf\" -pointsize 16  -size 32x32  -gravity Center caption:'VII' testing.png\n",
      "!convert -background white  -fill black -font \"/usr/share/fonts/TTF/richard_hamilton_italic.ttf\" -pointsize 16  -size 32x32  -gravity Center caption:'VII' testing.png\n",
      "!convert -background white  -fill black -font \"/usr/share/fonts/TTF/winkle_regular.ttf\" -pointsize 16  -size 32x32  -gravity Center caption:'VII' testing.png\n",
      "!convert -background white  -fill black -font \"/usr/share/fonts/TTF/Moon_Flower.ttf\" -pointsize 16  -size 32x32  -gravity Center caption:'VII' testing.png\n",
      "!convert -background white  -fill black -font \"/usr/share/fonts/TTF/christian_heedlay.ttf\" -pointsize 16  -size 32x32  -gravity Center caption:'VII' testing.png\n",
      "!convert -background white  -fill black -font \"/usr/share/fonts/TTF/popsicle.ttf\" -pointsize 16  -size 32x32  -gravity Center caption:'VII' testing.png\n",
      "!convert -background white  -fill black -font \"/usr/share/fonts/TTF/chocolate.ttf\" -pointsize 16  -size 32x32  -gravity Center caption:'VII' testing.png\n",
      "!convert -background white  -fill black -font \"/usr/share/fonts/TTF/KGMissKindergarten.ttf\" -pointsize 16  -size 32x32  -gravity Center caption:'VII' testing.png\n",
      "!convert -background white  -fill black -font \"/usr/share/fonts/TTF/richard_hamilton.ttf\" -pointsize 16  -size 32x32  -gravity Center caption:'VII' testing.png\n",
      "!convert -background white  -fill black -font \"/usr/share/fonts/TTF/My_Unprofessional_Handwriting.ttf\" -pointsize 16  -size 32x32  -gravity Center caption:'VII' testing.png\n",
      "!convert -background white  -fill black -font \"/usr/share/fonts/TTF/christian_heedlay_italic.ttf\" -pointsize 16  -size 32x32  -gravity Center caption:'VII' testing.png\n",
      "!convert -background white  -fill black -font \"/usr/share/fonts/TTF/mr_right.ttf\" -pointsize 16  -size 32x32  -gravity Center caption:'VII' testing.png\n",
      "!convert -background white  -fill black -font \"/usr/share/fonts/TTF/Please_write_me_a_song.ttf\" -pointsize 16  -size 32x32  -gravity Center caption:'VII' testing.png\n",
      "!convert -background white  -fill black -font \"/usr/share/fonts/liberation/LiberationSerif-Italic.ttf\" -pointsize 16  -size 32x32  -gravity Center caption:'VII' testing.png\n",
      "!convert -background white  -fill black -font \"/usr/share/fonts/gsfonts/Z003-MediumItalic.otf\" -pointsize 16  -size 32x32  -gravity Center caption:'VII' testing.png\n",
      "!convert -background white  -fill black -font \"/usr/share/fonts/TTF/ROMANUS.otf\" -pointsize 16  -size 32x32  -gravity Center caption:'VII' testing.png\n",
      "!convert -background white  -fill black -font \"/usr/share/fonts/TTF/Roman_SD.ttf\" -pointsize 16  -size 32x32  -gravity Center caption:'VII' testing.png\n",
      "!convert -background white  -fill black -font \"/usr/share/fonts/TTF/Romanicum_Italic.ttf\" -pointsize 16  -size 32x32  -gravity Center caption:'VII' testing.png\n",
      "!convert -background white  -fill black -font \"/usr/share/fonts/TTF/Erie_Roman.ttf\" -pointsize 16  -size 32x32  -gravity Center caption:'VII' testing.png\n",
      "!convert -background white  -fill black -font \"/usr/share/fonts/TTF/spqri.ttf\" -pointsize 16  -size 32x32  -gravity Center caption:'VII' testing.png\n",
      "!convert -background white  -fill black -font \"/usr/share/fonts/TTF/spqr.ttf\" -pointsize 16  -size 32x32  -gravity Center caption:'VII' testing.png\n",
      "!convert -background white  -fill black -font \"/usr/share/fonts/TTF/ROSART__.ttf\" -pointsize 16  -size 32x32  -gravity Center caption:'VII' testing.png\n",
      "!convert -background white  -fill black -font \"/usr/share/fonts/TTF/EMPORO.TTF\" -pointsize 16  -size 32x32  -gravity Center caption:'VII' testing.png\n",
      "!convert -background white  -fill black -font \"/usr/share/fonts/TTF/achilles3superital.ttf\" -pointsize 16  -size 32x32  -gravity Center caption:'VII' testing.png\n",
      "!convert -background white  -fill black -font \"/usr/share/fonts/TTF/achilles3left.ttf\" -pointsize 16  -size 32x32  -gravity Center caption:'VII' testing.png\n"
     ]
    }
   ],
   "source": [
    "### generate individual terminal commands for testings\n",
    "test_coms = []\n",
    "for font_type in fonts:\n",
    "    term_str = '!convert -background white  -fill black -font {} -pointsize 16  -size 32x32  -gravity Center caption:{} {}'.format('\"'+font_type+'\"',\"'\"+\"VII\"+\"'\",'testing.png')\n",
    "    print(term_str)"
   ]
  },
  {
   "cell_type": "code",
   "execution_count": 9,
   "metadata": {},
   "outputs": [],
   "source": [
    "#test specific command\n",
    "!convert -background white  -fill black -font \"/usr/share/fonts/TTF/ROMANUS.otf\" -pointsize 32  -size 64x64  -gravity West caption:'IV' testing.png"
   ]
  },
  {
   "cell_type": "code",
   "execution_count": null,
   "metadata": {},
   "outputs": [],
   "source": []
  }
 ],
 "metadata": {
  "kernelspec": {
   "display_name": "Python [conda env:root] *",
   "language": "python",
   "name": "conda-root-py"
  },
  "language_info": {
   "codemirror_mode": {
    "name": "ipython",
    "version": 3
   },
   "file_extension": ".py",
   "mimetype": "text/x-python",
   "name": "python",
   "nbconvert_exporter": "python",
   "pygments_lexer": "ipython3",
   "version": "3.7.6"
  }
 },
 "nbformat": 4,
 "nbformat_minor": 4
}
