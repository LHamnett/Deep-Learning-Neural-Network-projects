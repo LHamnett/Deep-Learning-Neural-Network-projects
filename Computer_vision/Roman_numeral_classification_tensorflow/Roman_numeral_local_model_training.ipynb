{
  "nbformat": 4,
  "nbformat_minor": 0,
  "metadata": {
    "colab": {
      "name": "Roman_numeral_local_model_training.ipynb",
      "provenance": [],
      "collapsed_sections": []
    },
    "kernelspec": {
      "name": "python3",
      "display_name": "Python 3"
    },
    "language_info": {
      "name": "python"
    },
    "accelerator": "GPU"
  },
  "cells": [
    {
      "cell_type": "markdown",
      "metadata": {
        "id": "2RIY9uGcggS_"
      },
      "source": [
        "##  Simple classifer model for roman numeral classification\n",
        "\n",
        "### Author/ML Engineer: Leon Hamnett - [linkedIn](https://www.linkedin.com/in/leon-hamnett/)\n",
        "\n",
        "\n",
        "### Introduction:\n",
        "\n",
        "As part of a team of machine learning engineers, I took part in a [datadriven contest](https://https-deeplearning-ai.github.io/data-centric-comp/) organised by Andrew Ng (a well known machine learning teacher and researcher). The aim of this competition was to focus on methods to improve dataset quality as opposed to improving the machine learning model itself. \n",
        "\n",
        "During this contest we created a number of different image datasets using such methods as cleaning and relabelling the existing dataset, creating synthetic data and applying a number of different image transforms and augmentations on the images. \n",
        "\n",
        "This notebook was used to locally test the impact of our image dataset modifications so we could see the impact they would have on model performance before submitting the images to the competition. \n",
        "\n"
      ]
    },
    {
      "cell_type": "code",
      "metadata": {
        "id": "MnEHHq0FJpTM"
      },
      "source": [
        "import tensorflow as tf\n",
        "from tensorflow import keras\n",
        "import matplotlib.pyplot as plt\n",
        "import numpy as np\n",
        "import json\n",
        "import sys\n",
        "import os\n",
        "from os import getcwd"
      ],
      "execution_count": null,
      "outputs": []
    },
    {
      "cell_type": "code",
      "metadata": {
        "colab": {
          "base_uri": "https://localhost:8080/"
        },
        "id": "60kMGEH5mbm0",
        "outputId": "40036f62-af99-40da-d92d-e3a3785cc545"
      },
      "source": [
        "#mount google drive to access files\n",
        "from google.colab import drive\n",
        "drive.mount('/content/drive')"
      ],
      "execution_count": null,
      "outputs": [
        {
          "output_type": "stream",
          "text": [
            "Mounted at /content/drive\n"
          ],
          "name": "stdout"
        }
      ]
    },
    {
      "cell_type": "code",
      "metadata": {
        "colab": {
          "base_uri": "https://localhost:8080/"
        },
        "id": "IoqMfJAYf9F9",
        "outputId": "f13631ed-8243-4920-b4e5-5fb1557593bc"
      },
      "source": [
        "print(os.getcwd())\n",
        "os.chdir('/content/drive/MyDrive/Datadriven_contest/Training')\n",
        "print(os.getcwd())"
      ],
      "execution_count": null,
      "outputs": [
        {
          "output_type": "stream",
          "text": [
            "/content\n",
            "/content/drive/MyDrive/Datadriven_contest/Training\n"
          ],
          "name": "stdout"
        }
      ]
    },
    {
      "cell_type": "markdown",
      "metadata": {
        "id": "F6i6qxOTdDWM"
      },
      "source": [
        "###Locate folders with images, shuffle into train/validation sets:"
      ]
    },
    {
      "cell_type": "code",
      "metadata": {
        "id": "eDlcn2VVTrfb"
      },
      "source": [
        "#If necessary, enter the location of the zipped file to unzip to make a new directory unzip <zipped file path> -d <file path to place unzipped files>\n",
        "#!unzip \"/content/drive/MyDrive/Datadriven_contest/Image_datasets/image_gen_base.zip\" -d \"/content/drive/MyDrive/Datadriven_contest/Image_datasets/images_generated_and_baseline\""
      ],
      "execution_count": null,
      "outputs": []
    },
    {
      "cell_type": "code",
      "metadata": {
        "colab": {
          "base_uri": "https://localhost:8080/"
        },
        "id": "UBBcn8pnmnWM",
        "outputId": "bb9b01dd-254b-417a-de46-3f5d320a3777"
      },
      "source": [
        "images = '/content/drive/MyDrive/Datadriven_contest/Image_datasets'\n",
        "os.listdir(images)"
      ],
      "execution_count": null,
      "outputs": [
        {
          "output_type": "execute_result",
          "data": {
            "text/plain": [
              "['baseline.zip',\n",
              " 'image_gen.zip',\n",
              " 'current_train',\n",
              " 'combined',\n",
              " 'baseline',\n",
              " 'image_gen',\n",
              " 'image_gen_base.zip',\n",
              " '.ipynb_checkpoints',\n",
              " 'image_generated_and_baseline',\n",
              " 'baseline_and_aug_zoom_flip',\n",
              " 'augmented_zoom_flip',\n",
              " 'augmented_blur',\n",
              " 'augmented_thresh',\n",
              " 'image_gen2_with_curls.zip',\n",
              " 'image_gen2_curls_aug_transl',\n",
              " 'baseline_imagegen2_aug_zoom_flip_thresh_blur',\n",
              " 'shuffled_temp',\n",
              " 'baseline_imagegen2_aug_zoom_flip_thresh_blur.zip',\n",
              " 'Copia de Create shuffle train val split for train (>10,000 images).ipynb',\n",
              " 'Create_shuffle train val split for train.ipynb']"
            ]
          },
          "metadata": {
            "tags": []
          },
          "execution_count": 5
        }
      ]
    },
    {
      "cell_type": "markdown",
      "metadata": {
        "id": "0nlsrKTedSBf"
      },
      "source": [
        "### Construct the model:"
      ]
    },
    {
      "cell_type": "code",
      "metadata": {
        "id": "C3j0aK1XqANn"
      },
      "source": [
        "#change image_dir below to correctly refer to folder with train_valid images\n",
        "image_dir = \"/content/drive/MyDrive/Datadriven_contest/Image_datasets/baseline_and_aug_zoom_flip\"\n",
        "train_dir = os.path.join(image_dir,'train')\n",
        "val_dir = os.path.join(image_dir,'valid')\n",
        "test_dir = os.path.join(\"/content/drive/MyDrive/Datadriven_contest/Image_datasets/baseline/baseline/test/label_book\")"
      ],
      "execution_count": null,
      "outputs": []
    },
    {
      "cell_type": "code",
      "metadata": {
        "id": "lJRUWWQmKeaw",
        "colab": {
          "base_uri": "https://localhost:8080/"
        },
        "outputId": "46ee25ed-2662-40b2-ec03-a63d4e88a837"
      },
      "source": [
        "#construct tensorflow data objects of input arrays and labels for each image by flowing the images from the directory\n",
        "batch_size = 32\n",
        "train = tf.keras.preprocessing.image_dataset_from_directory(\n",
        "        train_dir,\n",
        "        labels=\"inferred\",\n",
        "        label_mode=\"categorical\",\n",
        "        class_names=[\"i\", \"ii\", \"iii\", \"iv\", \"v\", \"vi\", \"vii\", \"viii\", \"ix\", \"x\"],\n",
        "        shuffle=True,\n",
        "        seed=123,\n",
        "        batch_size=batch_size,\n",
        "        image_size=(32, 32)\n",
        "    )\n",
        "\n",
        "valid = tf.keras.preprocessing.image_dataset_from_directory(\n",
        "        val_dir,\n",
        "        labels=\"inferred\",\n",
        "        label_mode=\"categorical\",\n",
        "        class_names=[\"i\", \"ii\", \"iii\", \"iv\", \"v\", \"vi\", \"vii\", \"viii\", \"ix\", \"x\"],\n",
        "        shuffle=True,\n",
        "        seed=123,\n",
        "        batch_size=batch_size,\n",
        "        image_size=(32, 32),\n",
        "    )\n",
        "\n",
        "\n",
        "test = tf.keras.preprocessing.image_dataset_from_directory(\n",
        "        test_dir,\n",
        "        labels=\"inferred\",\n",
        "        label_mode=\"categorical\",\n",
        "        class_names=[\"i\", \"ii\", \"iii\", \"iv\", \"v\", \"vi\", \"vii\", \"viii\", \"ix\", \"x\"],\n",
        "        shuffle=False,\n",
        "        image_size=(32, 32))\n",
        "    \n"
      ],
      "execution_count": null,
      "outputs": [
        {
          "output_type": "stream",
          "text": [
            "Found 6336 files belonging to 10 classes.\n",
            "Found 773 files belonging to 10 classes.\n",
            "Found 52 files belonging to 10 classes.\n"
          ],
          "name": "stdout"
        }
      ]
    },
    {
      "cell_type": "code",
      "metadata": {
        "id": "C7zQrPc8qZ7b"
      },
      "source": [
        "#load the same model architecture that the competition is using\n",
        "#use existing pretrained model\n",
        "base_model = tf.keras.applications.ResNet50( \n",
        "        input_shape=(32, 32, 3),\n",
        "        include_top=False,\n",
        "        weights=None,\n",
        "    )\n",
        "\n",
        "#choose which pretrained layer to use as input to our model\n",
        "base_model = tf.keras.Model(\n",
        "        base_model.inputs, outputs=[base_model.get_layer(\"conv2_block3_out\").output]\n",
        "    )\n",
        "\n",
        "#construct new layers on top of pretrained model\n",
        "inputs = tf.keras.Input(shape=(32, 32, 3))\n",
        "x = tf.keras.applications.resnet.preprocess_input(inputs)\n",
        "x = base_model(x)\n",
        "x = tf.keras.layers.GlobalAveragePooling2D()(x)\n",
        "x = tf.keras.layers.Dense(10)(x)\n",
        "model = tf.keras.Model(inputs, x)\n",
        "\n",
        "    "
      ],
      "execution_count": null,
      "outputs": []
    },
    {
      "cell_type": "code",
      "metadata": {
        "id": "PItVzqQ4ytph"
      },
      "source": [
        "#set callbacks to stop training early/save best model weights\n",
        "es_callback = tf.keras.callbacks.EarlyStopping(monitor='val_accuracy', patience=4) #model will stop training if validation accuracy decreases [patience] number of times \n",
        "\n",
        "#save best model weights\n",
        "mchp_callback = tf.keras.callbacks.ModelCheckpoint(\n",
        "        \"best_model\",\n",
        "        monitor=\"val_accuracy\",\n",
        "        mode=\"max\",\n",
        "        save_best_only=True,\n",
        "        save_weights_only=True,\n",
        "        save_freq='epoch') #how often to save model weights\n",
        "\n",
        "callback = [es_callback,mchp_callback]\n"
      ],
      "execution_count": null,
      "outputs": []
    },
    {
      "cell_type": "code",
      "metadata": {
        "id": "HiTfCJkVwSS5"
      },
      "source": [
        "#build the model\n",
        "model.compile(\n",
        "        optimizer=tf.keras.optimizers.Adam(learning_rate=0.0001),\n",
        "        loss=tf.keras.losses.CategoricalCrossentropy(from_logits=True),\n",
        "        metrics=[\"accuracy\"]\n",
        "    )"
      ],
      "execution_count": null,
      "outputs": []
    },
    {
      "cell_type": "markdown",
      "metadata": {
        "id": "43HGvpGDdjEy"
      },
      "source": [
        "### Train the model:"
      ]
    },
    {
      "cell_type": "code",
      "metadata": {
        "colab": {
          "base_uri": "https://localhost:8080/"
        },
        "id": "O6xIlhPvwnkm",
        "outputId": "94443b93-ed3d-470e-cba5-3fb688021dcc"
      },
      "source": [
        "#train the model, and assign training logs to variable for analysis after the training\n",
        "history = model.fit(train,\n",
        "                    batch_size=batch_size,\n",
        "                    epochs=20,\n",
        "                    verbose=2,\n",
        "                    validation_data=valid,\n",
        "                    callbacks=callback)"
      ],
      "execution_count": null,
      "outputs": [
        {
          "output_type": "stream",
          "text": [
            "Epoch 1/20\n",
            "198/198 - 1192s - loss: 1.9341 - accuracy: 0.3846 - val_loss: 1.5261 - val_accuracy: 0.5252\n",
            "Epoch 2/20\n",
            "198/198 - 11s - loss: 1.0611 - accuracy: 0.6799 - val_loss: 1.5127 - val_accuracy: 0.4580\n",
            "Epoch 3/20\n",
            "198/198 - 11s - loss: 0.6933 - accuracy: 0.8030 - val_loss: 0.7012 - val_accuracy: 0.7878\n",
            "Epoch 4/20\n",
            "198/198 - 11s - loss: 0.5100 - accuracy: 0.8586 - val_loss: 0.4990 - val_accuracy: 0.8551\n",
            "Epoch 5/20\n",
            "198/198 - 11s - loss: 0.3961 - accuracy: 0.8873 - val_loss: 0.4476 - val_accuracy: 0.8655\n",
            "Epoch 6/20\n",
            "198/198 - 11s - loss: 0.3103 - accuracy: 0.9181 - val_loss: 0.3366 - val_accuracy: 0.8939\n",
            "Epoch 7/20\n",
            "198/198 - 11s - loss: 0.2631 - accuracy: 0.9283 - val_loss: 0.3599 - val_accuracy: 0.8862\n",
            "Epoch 8/20\n",
            "198/198 - 12s - loss: 0.2188 - accuracy: 0.9405 - val_loss: 0.3996 - val_accuracy: 0.8693\n",
            "Epoch 9/20\n",
            "198/198 - 11s - loss: 0.1777 - accuracy: 0.9588 - val_loss: 0.2595 - val_accuracy: 0.9198\n",
            "Epoch 10/20\n",
            "198/198 - 12s - loss: 0.1533 - accuracy: 0.9623 - val_loss: 0.2682 - val_accuracy: 0.9288\n",
            "Epoch 11/20\n",
            "198/198 - 11s - loss: 0.1264 - accuracy: 0.9684 - val_loss: 0.3605 - val_accuracy: 0.8668\n",
            "Epoch 12/20\n",
            "198/198 - 11s - loss: 0.1089 - accuracy: 0.9746 - val_loss: 0.3206 - val_accuracy: 0.9004\n",
            "Epoch 13/20\n",
            "198/198 - 11s - loss: 0.0983 - accuracy: 0.9766 - val_loss: 0.3374 - val_accuracy: 0.8965\n",
            "Epoch 14/20\n",
            "198/198 - 12s - loss: 0.0766 - accuracy: 0.9841 - val_loss: 0.2601 - val_accuracy: 0.9172\n"
          ],
          "name": "stdout"
        }
      ]
    },
    {
      "cell_type": "markdown",
      "metadata": {
        "id": "UChi4qbhdpDh"
      },
      "source": [
        "### Evaluation model performance:"
      ]
    },
    {
      "cell_type": "code",
      "metadata": {
        "colab": {
          "base_uri": "https://localhost:8080/",
          "height": 573
        },
        "id": "keB_ydMoCbXh",
        "outputId": "805f26fa-7ab9-4044-9a54-9fe64260b38e"
      },
      "source": [
        "# summarize history for accuracy\n",
        "plt.plot(history.history['accuracy'])\n",
        "plt.plot(history.history['val_accuracy'])\n",
        "plt.title('model accuracy')\n",
        "plt.ylabel('accuracy')\n",
        "plt.xlabel('epoch')\n",
        "plt.legend(['train', 'valid'], loc='upper left')\n",
        "plt.show()\n",
        "# summarize history for loss\n",
        "plt.plot(history.history['loss'])\n",
        "plt.plot(history.history['val_loss'])\n",
        "plt.title('model loss')\n",
        "plt.ylabel('loss')\n",
        "plt.xlabel('epoch')\n",
        "plt.legend(['train', 'valid'], loc='upper left')\n",
        "plt.show()"
      ],
      "execution_count": null,
      "outputs": [
        {
          "output_type": "display_data",
          "data": {
            "image/png": "[encoded data removed]",
            "text/plain": [
              "<Figure size 432x288 with 1 Axes>"
            ]
          },
          "metadata": {
            "tags": [],
            "needs_background": "light"
          }
        },
        {
          "output_type": "display_data",
          "data": {
            "image/png": "[encoded data removed]",
            "text/plain": [
              "<Figure size 432x288 with 1 Axes>"
            ]
          },
          "metadata": {
            "tags": [],
            "needs_background": "light"
          }
        }
      ]
    },
    {
      "cell_type": "code",
      "metadata": {
        "colab": {
          "base_uri": "https://localhost:8080/"
        },
        "id": "grJn8_wdxYN2",
        "outputId": "dc898e1c-3848-4342-8eae-a5395e0dbfa4"
      },
      "source": [
        "#compare model predictions against actual labels\n",
        "predictions = np.array([])\n",
        "labels =  np.array([])\n",
        "for x, y in valid: #loop through images, use input x array to make a label prediction and take the y value as the actual label\n",
        "  predictions = np.concatenate([predictions, np.argmax(model.predict(x), axis = -1)])\n",
        "  labels = np.concatenate([labels, np.argmax(y.numpy(), axis=-1)])\n",
        "\n",
        "#show a confusion matrix to give a quick overview of performance\n",
        "tf.math.confusion_matrix(labels=labels, predictions=predictions).numpy()\n"
      ],
      "execution_count": null,
      "outputs": [
        {
          "output_type": "execute_result",
          "data": {
            "text/plain": [
              "array([[165,   2,   0,   0,   0,   0,   0,   0,   0,   1],\n",
              "       [  1, 124,   0,   0,   0,   1,   0,   0,   0,   0],\n",
              "       [  0,   9,  51,   1,   0,   0,   1,   0,   0,   0],\n",
              "       [  0,   4,   1,  53,   2,   0,   0,   0,   2,   1],\n",
              "       [  2,   1,   0,   0,  71,   0,   0,   0,   0,   0],\n",
              "       [  0,   2,   0,   0,   0,  43,   1,   0,   0,   0],\n",
              "       [  0,   0,   1,   0,   0,   7,  37,   0,   0,   0],\n",
              "       [  0,   0,   2,   0,   0,   0,   8,  37,   0,   0],\n",
              "       [  0,   2,   2,   3,   0,   1,   0,   0,  43,   2],\n",
              "       [  1,   1,   0,   0,   2,   0,   0,   0,   0,  85]], dtype=int32)"
            ]
          },
          "metadata": {
            "tags": []
          },
          "execution_count": 14
        }
      ]
    },
    {
      "cell_type": "code",
      "metadata": {
        "colab": {
          "base_uri": "https://localhost:8080/"
        },
        "id": "y6IIR6YzyssH",
        "outputId": "65ad0f86-d982-469d-be28-1da2de5db085"
      },
      "source": [
        "#load the best weights and evaluate model performance on validation and test sets\n",
        "model.load_weights(\"best_model\")\n",
        "\n",
        "loss, acc = model.evaluate(valid)\n",
        "print(f\"final valid loss {loss}, final valid acc {acc}\")\n",
        "\n",
        "test_loss, test_acc = model.evaluate(test)\n",
        "print(f\"test loss {test_loss}, test acc {test_acc}\")"
      ],
      "execution_count": null,
      "outputs": [
        {
          "output_type": "stream",
          "text": [
            "25/25 [==============================] - 1s 33ms/step - loss: 0.2682 - accuracy: 0.9288\n",
            "final valid loss 0.2682117521762848, final valid acc 0.9288486242294312\n",
            "2/2 [==============================] - 0s 31ms/step - loss: 1.1634 - accuracy: 0.6731\n",
            "test loss 1.1633946895599365, test acc 0.6730769276618958\n",
            "0.2682117521762848 0.9288486242294312 1.1633946895599365 0.6730769276618958\n"
          ],
          "name": "stdout"
        }
      ]
    },
    {
      "cell_type": "code",
      "metadata": {
        "id": "y_Cc3Q8J06sK"
      },
      "source": [
        ""
      ],
      "execution_count": null,
      "outputs": []
    },
    {
      "cell_type": "code",
      "metadata": {
        "id": "nKE7dCKtmlPe"
      },
      "source": [
        ""
      ],
      "execution_count": null,
      "outputs": []
    }
  ]
}